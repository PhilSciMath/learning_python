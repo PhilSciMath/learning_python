{
 "cells": [
  {
   "cell_type": "markdown",
   "id": "421e2f7e-8015-4da0-9ed4-1b3f7b61ff36",
   "metadata": {},
   "source": [
    "# Python crash course"
   ]
  },
  {
   "cell_type": "markdown",
   "id": "fa865a4f-ccc9-4e78-a8ae-7ea76c42b032",
   "metadata": {},
   "source": [
    "<hr>\n",
    "\n",
    "## Chapter 2 - Variables and simples data types"
   ]
  },
  {
   "cell_type": "markdown",
   "id": "87dc7895-aa8a-4d9c-9d0a-03e4c31328fe",
   "metadata": {},
   "source": [
    "2-3. Personal Message: Use a variable to represent a person’s name, and print\n",
    "a message to that person. Your message should be simple, such as, “Hello Eric,\n",
    "would you like to learn some Python today?”"
   ]
  },
  {
   "cell_type": "code",
   "execution_count": null,
   "id": "2dcbbc9b-e831-4075-9ed8-eca8bcccb06f",
   "metadata": {},
   "outputs": [],
   "source": [
    "name = \"Batman\"\n",
    "print(f'Hello {name}, would you like to learn some Python today?')"
   ]
  },
  {
   "cell_type": "markdown",
   "id": "497f02fd-e97d-4ce7-a77f-60e71ad858bd",
   "metadata": {},
   "source": [
    "2-4. Name Cases: Use a variable to represent a person’s name, and then print\n",
    "that person’s name in lowercase, uppercase, and title case."
   ]
  },
  {
   "cell_type": "code",
   "execution_count": null,
   "id": "af112c5e-faf0-4991-8828-922210d16b4a",
   "metadata": {},
   "outputs": [],
   "source": [
    "name = 'Batman'\n",
    "print(name.lower())\n",
    "print(name.upper())\n",
    "print(name.title())"
   ]
  },
  {
   "cell_type": "markdown",
   "id": "6e238393-9a35-415d-abaf-eb55e90d2b1b",
   "metadata": {},
   "source": [
    "2-5. Famous Quote: Find a quote from a famous person you admire. Print the\n",
    "quote and the name of its author. Your output should look something like the\n",
    "following, including the quotation marks:\n",
    "Albert Einstein once said, “A person who never made a mistake never\n",
    "tried anything new.”"
   ]
  },
  {
   "cell_type": "code",
   "execution_count": null,
   "id": "acf1097f-a657-4a82-8fac-7d90eb568578",
   "metadata": {},
   "outputs": [],
   "source": [
    "message = 'Albert Einstein once said, \"A person who never made a mistake never tried anything new.\"'\n",
    "print(message)"
   ]
  },
  {
   "cell_type": "markdown",
   "id": "194c2e13-27e3-4f2a-9c13-50734f4bcf2b",
   "metadata": {},
   "source": [
    "2-6. Famous Quote 2: Repeat Exercise 2-5, but this time, represent the famous\n",
    "person’s name using a variable called famous_person. Then compose your message and represent it with a new variable called message. Print your message."
   ]
  },
  {
   "cell_type": "code",
   "execution_count": null,
   "id": "254400d6-b77d-407f-b163-5eebdf4b1aa3",
   "metadata": {},
   "outputs": [],
   "source": [
    "famous_person = 'Albert Einstein'\n",
    "message = f'{famous_person} once said, \"A person who never made a mistake never tried anything new.\"'\n",
    "print(message)"
   ]
  },
  {
   "cell_type": "markdown",
   "id": "cde0b900-3394-43d9-88b8-9def35c0d832",
   "metadata": {},
   "source": [
    "2-7. Stripping Names: Use a variable to represent a person’s name, and\n",
    "include some whitespace characters at the beginning and end of the name.\n",
    "Make sure you use each character combination, \"\\t\" and \"\\n\", at least once.\n",
    "Print the name once, so the whitespace around the name is displayed.\n",
    "Then print the name using each of the three stripping functions, lstrip(),\n",
    "rstrip(), and strip()."
   ]
  },
  {
   "cell_type": "code",
   "execution_count": null,
   "id": "289d6880-4e5e-4f64-8596-fc03dd02f1ab",
   "metadata": {},
   "outputs": [],
   "source": [
    "name = '\\tAlbert Einstein \\n'\n",
    "print(name)\n",
    "print(name.lstrip())\n",
    "print(name.rstrip())\n",
    "print(name.strip())"
   ]
  },
  {
   "cell_type": "markdown",
   "id": "8d5c198c-17d5-4a5b-9cbd-301343707293",
   "metadata": {},
   "source": [
    "2-8. File Extensions: Python has a removesuffix() method that works exactly\n",
    "like removeprefix(). Assign the value 'python_notes.txt' to a variable called\n",
    "filename. Then use the removesuffix() method to display the filename without\n",
    "the file extension, like some file browsers do."
   ]
  },
  {
   "cell_type": "code",
   "execution_count": null,
   "id": "9ba5735c-c2ca-4967-ba38-959556f55f36",
   "metadata": {},
   "outputs": [],
   "source": [
    "filename = 'python_notes.txt'\n",
    "print(filename)\n",
    "print(filename.removesuffix('.txt'))"
   ]
  },
  {
   "cell_type": "markdown",
   "id": "9a4027c2-27cb-476b-9f80-b24569f68494",
   "metadata": {},
   "source": [
    "Tip: Python ignore underscores in numbers, so we can use them to make the reading easier."
   ]
  },
  {
   "cell_type": "code",
   "execution_count": null,
   "id": "53f98b6a-3ccf-4a40-998c-74ca75944f8c",
   "metadata": {},
   "outputs": [],
   "source": [
    "number = 5_000_000_000_000\n",
    "print(number)"
   ]
  },
  {
   "cell_type": "markdown",
   "id": "fc07de9b-4e07-445a-abd5-11020c7e24a0",
   "metadata": {},
   "source": [
    "2-9. Number Eight: Write addition, subtraction, multiplication, and division\n",
    "operations that each result in the number 8. Be sure to enclose your operations\n",
    "in print() calls to see the results. You should create four lines that look like this:\n",
    "print(5+3)\n",
    "Your output should be four lines, with the number 8 appearing once on\n",
    "each line."
   ]
  },
  {
   "cell_type": "code",
   "execution_count": null,
   "id": "5076f9da-e916-4d62-9537-0ba2692d78c9",
   "metadata": {},
   "outputs": [],
   "source": [
    "print('2+6 =', 2+6)\n",
    "print('10-2 =', 10-2)\n",
    "print('2*4 =', 2*4)\n",
    "print('40/5 =', 40/5)"
   ]
  },
  {
   "cell_type": "markdown",
   "id": "0789b228-3d03-4054-adfb-151c2ed57013",
   "metadata": {},
   "source": [
    "2-10. Favorite Number: Use a variable to represent your favorite number. Then,\n",
    "using that variable, create a message that reveals your favorite number. Print\n",
    "that message."
   ]
  },
  {
   "cell_type": "code",
   "execution_count": null,
   "id": "5c8bed22-8313-4b7a-b18d-756fab0b4c9a",
   "metadata": {},
   "outputs": [],
   "source": [
    "number = 1_000_000\n",
    "print(f'A random number could be {number}')"
   ]
  },
  {
   "cell_type": "markdown",
   "id": "b9459299-4df5-4bdc-a056-577eba937945",
   "metadata": {},
   "source": [
    "2-11. Adding Comments: Choose two of the programs you’ve written, and\n",
    "add at least one comment to each. If you don’t have anything specific to write\n",
    "because your programs are too simple at this point, just add your name and the\n",
    "current date at the top of each program file. Then write one sentence describing\n",
    "what the program does."
   ]
  },
  {
   "cell_type": "code",
   "execution_count": null,
   "id": "bb29c0da-5e0f-4073-871a-906351fe95c0",
   "metadata": {},
   "outputs": [],
   "source": [
    "# This is a comment, though a useless one. "
   ]
  },
  {
   "cell_type": "code",
   "execution_count": null,
   "id": "bd58b033-4387-4f91-8821-70aa1cbfa506",
   "metadata": {},
   "outputs": [],
   "source": [
    "# The Zen of Python\n",
    "import this"
   ]
  },
  {
   "cell_type": "markdown",
   "id": "c1160d76-6813-4af0-a4e9-6f86b5ce3eba",
   "metadata": {},
   "source": [
    "<hr>\n",
    "\n",
    "## Chapter 3 - Introducing Lists"
   ]
  },
  {
   "cell_type": "markdown",
   "id": "01b9b826-896f-4b34-b5ea-f39b79b461f8",
   "metadata": {},
   "source": [
    "3-1. Names: Store the names of a few of your friends in a list called names. Print\n",
    "each person’s name by accessing each element in the list, one at a time."
   ]
  },
  {
   "cell_type": "code",
   "execution_count": null,
   "id": "1bd4f790-fd85-4693-80a4-c6c244af751e",
   "metadata": {},
   "outputs": [],
   "source": [
    "names = ['Goku', 'Vegeta', 'Naruto', 'Kakashi']\n",
    "print(names[0])\n",
    "print(names[1])\n",
    "print(names[-2])\n",
    "print(names[-1])"
   ]
  },
  {
   "cell_type": "markdown",
   "id": "200aa2b9-b9da-4d3f-bda2-a76f2e1cb41b",
   "metadata": {},
   "source": [
    "3-2. Greetings: Start with the list you used in Exercise 3-1, but instead of just\n",
    "printing each person’s name, print a message to them. The text of each mes-\n",
    "sage should be the same, but each message should be personalized with the\n",
    "person’s name."
   ]
  },
  {
   "cell_type": "code",
   "execution_count": null,
   "id": "a3593bbd-c924-41db-a3af-3249ddbb2228",
   "metadata": {},
   "outputs": [],
   "source": [
    "message = \"Let's learn some Python\"\n",
    "print(f'{message} {names[0]}')\n",
    "print(f'{message} {names[1]}')\n",
    "print(f'{message} {names[-2]}')\n",
    "print(f'{message} {names[-1]}')"
   ]
  },
  {
   "cell_type": "markdown",
   "id": "996fb6ae-b245-4e1e-98b1-eb156fef10d1",
   "metadata": {},
   "source": [
    "3-3. Your Own List: Think of your favorite mode of transportation, such as a\n",
    "motorcycle or a car, and make a list that stores several examples. Use your list\n",
    "to print a series of statements about these items, such as “I would like to own a\n",
    "Honda motorcycle.”"
   ]
  },
  {
   "cell_type": "code",
   "execution_count": null,
   "id": "a6f42c4e-2e17-4c83-9882-8d5a3e09d755",
   "metadata": {},
   "outputs": [],
   "source": [
    "items = ['car', 'PC', 'motorcycle', 'truck']\n",
    "print(f\"I don't care about {items[0]}s\")\n",
    "print(f\"My {items[1]} is quite old and slow\")\n",
    "print(f\"People using {items[2]}s are at a higher risk of dying\")\n",
    "print(f\"A {items[-1]} is really important\")"
   ]
  },
  {
   "cell_type": "markdown",
   "id": "34851e0d-7ecc-44cf-b72f-66f2a3dab205",
   "metadata": {},
   "source": [
    "3-4. Guest List: If you could invite anyone, living or deceased, to dinner, who\n",
    "would you invite? Make a list that includes at least three people you’d like to\n",
    "invite to dinner. Then use your list to print a message to each person, inviting\n",
    "them to dinner."
   ]
  },
  {
   "cell_type": "code",
   "execution_count": null,
   "id": "22373084-fc62-42c0-b1a2-ec9a7a6adcf0",
   "metadata": {},
   "outputs": [],
   "source": [
    "print(f\"Hey {names[0]}, let's have a dinner.\")\n",
    "print(f\"Hey {names[1]}, let's have a dinner.\")\n",
    "print(f\"Hey {names[2]}, let's have a dinner.\")\n",
    "print(f\"Hey {names[-1]}, let's have a dinner.\")"
   ]
  },
  {
   "cell_type": "markdown",
   "id": "b687e2a5-cd3a-49ca-81e5-bbb2990669f0",
   "metadata": {},
   "source": [
    "3-5. Changing Guest List: You just heard that one of your guests can’t make the\n",
    "dinner, so you need to send out a new set of invitations. You’ll have to think of\n",
    "someone else to invite.\n",
    "- Start with your program from Exercise 3-4. Add a print() call at the end of\n",
    "your program, stating the name of the guest who can’t make it.\n",
    "- Modify your list, replacing the name of the guest who can’t make it with the\n",
    "name of the new person you are inviting.\n",
    "- Print a second set of invitation messages, one for each person who is still in\n",
    "your list."
   ]
  },
  {
   "cell_type": "code",
   "execution_count": null,
   "id": "bf71a458-6af4-4142-a5ae-3ff491dfd591",
   "metadata": {},
   "outputs": [],
   "source": [
    "print(names[0], \"can't make the dinner\")\n",
    "names[0] = 'Jackie Chan'\n",
    "print(f\"Hey {names[0]}, let's have a dinner.\")\n",
    "print(f\"Hey {names[1]}, let's have a dinner.\")\n",
    "print(f\"Hey {names[2]}, let's have a dinner.\")\n",
    "print(f\"Hey {names[3]}, let's have a dinner.\")"
   ]
  },
  {
   "cell_type": "markdown",
   "id": "c206cbf6-4a93-426b-9cab-d45715e11270",
   "metadata": {},
   "source": [
    "3-6. More Guests: You just found a bigger dinner table, so now more space is\n",
    "available. Think of three more guests to invite to dinner.\n",
    "- Start with your program from Exercise 3-4 or 3-5. Add a print() call to the\n",
    "end of your program, informing people that you found a bigger table.\n",
    "- Use insert() to add one new guest to the beginning of your list.\n",
    "- Use insert() to add one new guest to the middle of your list.\n",
    "- Use append() to add one new guest to the end of your list.\n",
    "- Print a new set of invitation messages, one for each person in your list."
   ]
  },
  {
   "cell_type": "code",
   "execution_count": null,
   "id": "412713a8-4aa2-441d-8dc8-fa6f27c8ad7a",
   "metadata": {},
   "outputs": [],
   "source": [
    "print(names[0], \"can't make the dinner\")\n",
    "names[0] = 'Jackie Chan'\n",
    "print(f\"Hey {names[0]}, let's have a dinner.\")\n",
    "print(f\"Hey {names[1]}, let's have a dinner.\")\n",
    "print(f\"Hey {names[2]}, let's have a dinner.\")\n",
    "print(f\"Hey {names[3]}, let's have a dinner.\")\n",
    "\n",
    "print('I found a bigger table!')\n",
    "names.insert(0, 'Sakura')\n",
    "names.insert(2, 'Hinata')\n",
    "names.append('Nosferatu')\n",
    "print(f\"Hey {names[0]}, let's have a dinner.\")\n",
    "print(f\"Hey {names[1]}, let's have a dinner.\")\n",
    "print(f\"Hey {names[2]}, let's have a dinner.\")\n",
    "print(f\"Hey {names[3]}, let's have a dinner.\")\n",
    "print(f\"Hey {names[4]}, let's have a dinner.\")\n",
    "print(f\"Hey {names[5]}, let's have a dinner.\")\n",
    "print(f\"Hey {names[-1]}, let's have a dinner.\")"
   ]
  },
  {
   "cell_type": "markdown",
   "id": "ab51b97e-2c60-4186-bd3b-cd6707f09850",
   "metadata": {},
   "source": [
    "3-7. Shrinking Guest List: You just found out that your new dinner table won’t\n",
    "arrive in time for the dinner, and now you have space for only two guests.\n",
    "- Start with your program from Exercise 3-6. Add a new line that prints a\n",
    "message saying that you can invite only two people for dinner.\n",
    "- Use pop() to remove guests from your list one at a time until only two\n",
    "names remain in your list. Each time you pop a name from your list, print a\n",
    "message to that person letting them know you’re sorry you can’t invite them\n",
    "to dinner.\n",
    "- Print a message to each of the two people still on your list, letting them\n",
    "know they’re still invited.\n",
    "- Use del to remove the last two names from your list, so you have an empty\n",
    "list. Print your list to make sure you actually have an empty list at the end of\n",
    "your program."
   ]
  },
  {
   "cell_type": "code",
   "execution_count": null,
   "id": "fd1feffc-f76c-42cf-b182-dab24d2181a2",
   "metadata": {},
   "outputs": [],
   "source": [
    "print('I can invite only two people for the dinner.')\n",
    "print(f\"Sorry {names.pop()}, you can't come to the dinner.\")\n",
    "print(f\"Sorry {names.pop(1)}, you can't come to the dinner.\")\n",
    "print(f\"Sorry {names.pop()}, you can't come to the dinner.\")\n",
    "print(f\"Sorry {names.pop()}, you can't come to the dinner.\")\n",
    "print(f\"Sorry {names.pop()}, you can't come to the dinner.\")\n",
    "\n",
    "print(f\"Hey {names[0]}, you're still invited\")\n",
    "print(f\"Hey {names[1]}, you're still invited\")\n",
    "\n",
    "del names[1]\n",
    "del names[0]\n",
    "print(names)"
   ]
  },
  {
   "cell_type": "markdown",
   "id": "4a7dda8c-9f75-4c75-89ff-eac07741b3fe",
   "metadata": {},
   "source": [
    "3-8. Seeing the World: Think of at least five places in the world you’d like\n",
    "to visit.\n",
    "- Store the locations in a list. Make sure the list is not in alphabetical order.\n",
    "- Print your list in its original order. Don’t worry about printing the list neatly;\n",
    "just print it as a raw Python list.\n",
    "- Use sorted() to print your list in alphabetical order without modifying the\n",
    "actual list.\n",
    "- Show that your list is still in its original order by printing it.\n",
    "- Use sorted() to print your list in reverse-alphabetical order without changing the order of the original list.\n",
    "- Show that your list is still in its original order by printing it again.\n",
    "- Use reverse() to change the order of your list. Print the list to show that its\n",
    "order has changed.\n",
    "- Use reverse() to change the order of your list again. Print the list to show\n",
    "it’s back to its original order.\n",
    "- Use sort() to change your list so it’s stored in alphabetical order. Print the\n",
    "list to show that its order has been changed.\n",
    "- Use sort() to change your list so it’s stored in reverse-alphabetical order.\n",
    "Print the list to show that its order has changed."
   ]
  },
  {
   "cell_type": "code",
   "execution_count": null,
   "id": "9da95347-6315-4503-98d9-f0cb05a62dd1",
   "metadata": {},
   "outputs": [],
   "source": [
    "countries = ['germany', 'united states', 'china', 'japan', 'sweden']\n",
    "print(countries)\n",
    "\n",
    "print(sorted(countries))\n",
    "print(countries)\n",
    "\n",
    "print(sorted(countries, reverse=True))\n",
    "print(countries)\n",
    "\n",
    "countries.reverse()\n",
    "print(countries)\n",
    "\n",
    "countries.reverse()\n",
    "print(countries)\n",
    "\n",
    "countries.sort()\n",
    "print(countries)\n",
    "\n",
    "countries.sort(reverse=True)\n",
    "print(countries)"
   ]
  },
  {
   "cell_type": "markdown",
   "id": "1dd7488f-d632-4326-8507-ff4edbec7caa",
   "metadata": {},
   "source": [
    "3-9. Dinner Guests: Working with one of the programs from Exercises 3-4\n",
    "through 3-7 (pages 41–42), use len() to print a message indicating the number\n",
    "of people you’re inviting to dinner."
   ]
  },
  {
   "cell_type": "code",
   "execution_count": null,
   "id": "ead0254d-2265-45aa-99fe-e1f4d15f134a",
   "metadata": {},
   "outputs": [],
   "source": [
    "print(f\"There are {len(countries)} countries I would like to visit.\")"
   ]
  },
  {
   "cell_type": "markdown",
   "id": "48acecfa-d614-42f8-8555-881236af996c",
   "metadata": {},
   "source": [
    "3-10. Every Function: Think of things you could store in a list. For example, you\n",
    "could make a list of mountains, rivers, countries, cities, languages, or anything\n",
    "else you’d like. Write a program that creates a list containing these items and\n",
    "then uses each function introduced in this chapter at least once."
   ]
  },
  {
   "cell_type": "code",
   "execution_count": null,
   "id": "155aa3e5-92b5-4aad-8e96-23c323dc575a",
   "metadata": {},
   "outputs": [],
   "source": [
    "stuff = []\n",
    "stuff.append(\"spain\")\n",
    "stuff.insert(0, \"dracula\")\n",
    "stuff.insert(1, \"ball\")\n",
    "stuff.append(\"watch\")\n",
    "stuff.insert(0, \"horse\")\n",
    "stuff.insert(2, \"banana\")\n",
    "stuff.append(\"crysis\")\n",
    "print(stuff)\n",
    "\n",
    "print(sorted(stuff))\n",
    "print(sorted(stuff, reverse=True))\n",
    "del stuff[0]\n",
    "print(stuff)\n",
    "stuff.reverse()\n",
    "print(stuff)\n",
    "stuff.reverse()\n",
    "print(stuff)\n",
    "print(f\"Removing {stuff.pop(3)} from stuff.\")\n",
    "print(stuff)\n",
    "stuff[1] = \"naruto\"\n",
    "print(stuff)\n",
    "stuff.remove(\"naruto\")\n",
    "print(stuff)\n",
    "stuff.sort()\n",
    "print(stuff)\n",
    "stuff.sort(reverse=True)\n",
    "print(stuff)\n",
    "stuff.remove(\"dracula\")\n",
    "print(f\"Removing 'dracula' and {stuff.pop()}\")\n",
    "print(stuff)\n",
    "del stuff[0]\n",
    "del stuff[0]\n",
    "print(stuff)"
   ]
  },
  {
   "cell_type": "markdown",
   "id": "22f20f86-8835-465c-9743-0ed741fb0eb7",
   "metadata": {},
   "source": [
    "<hr>\n",
    "\n",
    "## Chapter 4 - Working with Lists"
   ]
  },
  {
   "cell_type": "markdown",
   "id": "0ac72ff9-1954-4cb0-b690-ebb3c88101aa",
   "metadata": {},
   "source": [
    "4-1. Pizzas: Think of at least three kinds of your favorite pizza. Store these\n",
    "pizza names in a list, and then use a for loop to print the name of each pizza.\n",
    "- Modify your for loop to print a sentence using the name of the pizza,\n",
    "instead of printing just the name of the pizza. For each pizza, you should\n",
    "have one line of output containing a simple statement like I like pep-\n",
    "peroni pizza.\n",
    "- Add a line at the end of your program, outside the for loop, that states\n",
    "how much you like pizza. The output should consist of three or more lines\n",
    "about the kinds of pizza you like and then an additional sentence, such as\n",
    "I really love pizza!"
   ]
  },
  {
   "cell_type": "code",
   "execution_count": null,
   "id": "202cf046-5170-49c3-ac98-01018ad51d4a",
   "metadata": {},
   "outputs": [],
   "source": [
    "foods = [\"banana\", \"pizza\", \"bread\"]\n",
    "for food in foods:\n",
    "    print(food.title())"
   ]
  },
  {
   "cell_type": "code",
   "execution_count": null,
   "id": "02c3711e-06cd-407f-acfc-546a03a4e26a",
   "metadata": {},
   "outputs": [],
   "source": [
    "for food in foods:\n",
    "    print(f\"I like {food}.\")\n",
    "print(f\"I really like {foods[1]}.\")\n",
    "\n",
    "# exercise 4-2 is the same thing, but with animals"
   ]
  },
  {
   "cell_type": "markdown",
   "id": "558c08d1-109f-4e73-bf88-a690f8864df7",
   "metadata": {},
   "source": [
    "4-3. Counting to Twenty: Use a for loop to print the numbers from 1 to 20,\n",
    "inclusive."
   ]
  },
  {
   "cell_type": "code",
   "execution_count": null,
   "id": "f9e00336-70b9-402b-bcac-c23c77e53a4a",
   "metadata": {},
   "outputs": [],
   "source": [
    "for i in range(1, 21):\n",
    "    print(i, end=\", \")"
   ]
  },
  {
   "cell_type": "markdown",
   "id": "fca44461-f79b-44fb-9b88-3e284541a8d2",
   "metadata": {},
   "source": [
    "4-4. One Million: Make a list of the numbers from one to one million, and then\n",
    "use a for loop to print the numbers. (If the output is taking too long, stop it by\n",
    "pressing CTRL-C or by closing the output window.)"
   ]
  },
  {
   "cell_type": "code",
   "execution_count": null,
   "id": "82e4b633-5365-417f-b5d6-016a7ab43291",
   "metadata": {},
   "outputs": [],
   "source": [
    "nums = list(range(1, int(1+1e6)))\n",
    "for num in nums:\n",
    "    print(num, end=\", \")"
   ]
  },
  {
   "cell_type": "markdown",
   "id": "e134dae1-ccc8-4a04-ad2e-bff60ba9b017",
   "metadata": {},
   "source": [
    "4-5. Summing a Million: Make a list of the numbers from one to one million, and\n",
    "then use min() and max() to make sure your list actually starts at one and ends\n",
    "at one million. Also, use the sum() function to see how quickly Python can add\n",
    "a million numbers."
   ]
  },
  {
   "cell_type": "code",
   "execution_count": null,
   "id": "0417aa9e-18c5-4291-8d4a-8d74f9415dda",
   "metadata": {},
   "outputs": [],
   "source": [
    "print(min(nums))\n",
    "print(max(nums))\n",
    "print(\"Sum =\", sum(nums))"
   ]
  },
  {
   "cell_type": "markdown",
   "id": "923e0183-57db-4d50-8e82-91f0e906703d",
   "metadata": {},
   "source": [
    "4-6. Odd Numbers: Use the third argument of the range() function to make a list\n",
    "of the odd numbers from 1 to 20. Use a for loop to print each number."
   ]
  },
  {
   "cell_type": "code",
   "execution_count": null,
   "id": "b37b71e4-4e05-4c2b-9eab-e4092e15fd67",
   "metadata": {},
   "outputs": [],
   "source": [
    "odds = list(range(1, 20, 2))\n",
    "for odd in odds:\n",
    "    print(odd, end=\", \")"
   ]
  },
  {
   "cell_type": "markdown",
   "id": "03af86da-b624-463f-9437-9c176be7ff19",
   "metadata": {},
   "source": [
    "4-7. Threes: Make a list of the multiples of 3, from 3 to 30. Use a for loop to\n",
    "print the numbers in your list."
   ]
  },
  {
   "cell_type": "code",
   "execution_count": null,
   "id": "3085a9cf-2b7d-4bfd-9d3e-104ae1109261",
   "metadata": {},
   "outputs": [],
   "source": [
    "three_mults = list(range(3, 31, 3))\n",
    "for n in three_mults:\n",
    "    print(n, end=\", \")"
   ]
  },
  {
   "cell_type": "markdown",
   "id": "5138bf99-6e0d-4021-a002-8a6b4d1ffce8",
   "metadata": {},
   "source": [
    "4-8. Cubes: A number raised to the third power is called a cube. For example,\n",
    "the cube of 2 is written as 2**3 in Python. Make a list of the first 10 cubes (that\n",
    "is, the cube of each integer from 1 through 10), and use a for loop to print out\n",
    "the value of each cube."
   ]
  },
  {
   "cell_type": "code",
   "execution_count": null,
   "id": "652555b6-51ce-4058-bcd2-628476631d95",
   "metadata": {},
   "outputs": [],
   "source": [
    "cubes = []\n",
    "for i in range(1,11):\n",
    "    cubes.append(i**3)\n",
    "for i in cubes:\n",
    "    print(i, end=\", \")"
   ]
  },
  {
   "cell_type": "markdown",
   "id": "7f3d59ba-8e92-4d70-879b-bd0c8377d3f8",
   "metadata": {},
   "source": [
    "4-9. Cube Comprehension: Use a list comprehension to generate a list of the first\n",
    "10 cubes."
   ]
  },
  {
   "cell_type": "code",
   "execution_count": null,
   "id": "a6118a28-8231-4dfa-a77c-b5d7f4bcf090",
   "metadata": {},
   "outputs": [],
   "source": [
    "cubes = [n**3 for n in range(1, 11)]\n",
    "for n in cubes:\n",
    "    print(n, end=\", \")"
   ]
  },
  {
   "cell_type": "markdown",
   "id": "ae7e9592-ba7d-436e-b976-59defef61e13",
   "metadata": {},
   "source": [
    "4-10. Slices: Using one of the programs you wrote in this chapter, add several\n",
    "lines to the end of the program that do the following:\n",
    "- Print the message The first three items in the list are:. Then use a slice to\n",
    "print the first three items from that program’s list.\n",
    "- Print the message Three items from the middle of the list are:. Then use a\n",
    "slice to print three items from the middle of the list.\n",
    "- Print the message The last three items in the list are:. Then use a slice to\n",
    "print the last three items in the list."
   ]
  },
  {
   "cell_type": "code",
   "execution_count": null,
   "id": "6b062f8a-4b2a-4377-8aa6-190ad707031b",
   "metadata": {},
   "outputs": [],
   "source": [
    "print(\"The first three items in the list are:\", cubes[:3])\n",
    "print(\"Three items from the middle of the list are:\", cubes[3:6])\n",
    "print(\"The last three items in the list are:\", cubes[-3:])"
   ]
  },
  {
   "cell_type": "markdown",
   "id": "e56dcbbe-f21f-4b9f-b22c-2bb140ac3ade",
   "metadata": {},
   "source": [
    "4-11. My Pizzas, Your Pizzas: Start with your program from Exercise 4-1 (page 56).\n",
    "Make a copy of the list of pizzas, and call it friend_pizzas. Then, do the\n",
    "following:\n",
    "- Add a new pizza to the original list.\n",
    "- Add a different pizza to the list friend_pizzas.\n",
    "- Prove that you have two separate lists. Print the message My favorite pizzas are:, and then use a for loop to print the first list. Print the message My\n",
    "friend’s favorite pizzas are:, and then use a for loop to print the second list.\n",
    "Make sure each new pizza is stored in the appropriate list."
   ]
  },
  {
   "cell_type": "code",
   "execution_count": null,
   "id": "47f8ca5d-8849-4506-86e9-a848de3f313e",
   "metadata": {},
   "outputs": [],
   "source": [
    "fruits = ['banana', 'pineaple', 'orange', 'tomato']\n",
    "foods = fruits[:] # the idea is to work with this concept\n",
    "fruits.append('peach')\n",
    "foods.append('steak')\n",
    "print(\"My favorite fruits are:\")\n",
    "for fruit in fruits:\n",
    "    print(fruit)\n",
    "print(\"Things I like to eat:\")\n",
    "for food in foods:\n",
    "    print(food)\n",
    "\n",
    "# for simplicity\n",
    "print(fruits)\n",
    "print(foods)"
   ]
  },
  {
   "cell_type": "markdown",
   "id": "ffeb1c29-1e8f-4a3f-a5c8-e6fd1a8dd72a",
   "metadata": {},
   "source": [
    "4-13. Buffet: A buffet-style restaurant offers only five basic foods. Think of five\n",
    "simple foods, and store them in a tuple.\n",
    "- Use a for loop to print each food the restaurant offers.\n",
    "- Try to modify one of the items, and make sure that Python rejects the\n",
    "change.\n",
    "- The restaurant changes its menu, replacing two of the items with different\n",
    "foods. Add a line that rewrites the tuple, and then use a for loop to print\n",
    "each of the items on the revised menu."
   ]
  },
  {
   "cell_type": "code",
   "execution_count": null,
   "id": "acd5f509-eeb8-468f-9f1a-6c2b2f362997",
   "metadata": {},
   "outputs": [],
   "source": [
    "things = ('train', 'banana', 'dracula', 'notebook')\n",
    "for thing in things:\n",
    "    print(thing, end=' ')\n",
    "print()\n",
    "# things[-1] = 'japan'\n",
    "things = ('train', 'banana', 1_000, True)\n",
    "for thing in things:\n",
    "    print(thing, end=' ')"
   ]
  },
  {
   "cell_type": "markdown",
   "id": "93b7a11c-3f65-4f81-adcf-8ae941831c70",
   "metadata": {},
   "source": [
    "<hr>\n",
    "\n",
    "## Chapter 5 - If Statements"
   ]
  },
  {
   "cell_type": "markdown",
   "id": "638dc4a7-68bb-42d6-b239-8d127871a47e",
   "metadata": {},
   "source": [
    "5-2. More Conditional Tests: You don’t have to limit the number of tests you create to 10. If you want to try more comparisons, write more tests and add them\n",
    "to conditional_tests.py. Have at least one True and one False result for each of\n",
    "the following:\n",
    "- Tests for equality and inequality with strings\n",
    "- Tests using the lower() method\n",
    "- Numerical tests involving equality and inequality, greater than and less\n",
    "than, greater than or equal to, and less than or equal to\n",
    "- Tests using the and keyword and the or keyword\n",
    "- Test whether an item is in a list\n",
    "- Test whether an item is not in a list"
   ]
  },
  {
   "cell_type": "code",
   "execution_count": null,
   "id": "c1353a19-7536-4fb4-bdcf-dd792d4f9e67",
   "metadata": {},
   "outputs": [],
   "source": [
    "message = \"hello world\"\n",
    "if message == \"hello world\":\n",
    "    print(message)\n",
    "if message != \"hello world\":\n",
    "    print(\"wrong message\")\n",
    "if message.title() == \"Hello World\":\n",
    "    print(message.title())\n",
    "if 'dracula' in things:\n",
    "    print(\"Run! It's a vampire!\")\n",
    "if 'naruto' not in things:\n",
    "    print('No anime stuff here.')"
   ]
  },
  {
   "cell_type": "markdown",
   "id": "9bce8eb4-3f5d-4500-b12f-b9a8651491f1",
   "metadata": {},
   "source": [
    "5-3. Alien Colors #1: Imagine an alien was just shot down in a game. Create a\n",
    "variable called alien_color and assign it a value of 'green', 'yellow', or 'red'.\n",
    "- Write an if statement to test whether the alien’s color is green. If it is, print\n",
    "a message that the player just earned 5 points.\n",
    "- Write one version of this program that passes the if test and another that\n",
    "fails. (The version that fails will have no output.)"
   ]
  },
  {
   "cell_type": "code",
   "execution_count": null,
   "id": "c2892216-8ad9-4ddd-ab15-7a9739f33498",
   "metadata": {},
   "outputs": [],
   "source": [
    "alien_color = 'green'\n",
    "if alien_color == 'green':\n",
    "    print(\"Score: +5\")\n",
    "if alien_color == 'red':\n",
    "    print(\"Score: +10\")"
   ]
  },
  {
   "cell_type": "markdown",
   "id": "99e2eec8-7fdf-4581-8829-6b66eec8d45e",
   "metadata": {},
   "source": [
    "5-4. Alien Colors #2: Choose a color for an alien as you did in Exercise 5-3,\n",
    "and write an if- else chain.\n",
    "- If the alien’s color is green, print a statement that the player just earned 5\n",
    "points for shooting the alien.\n",
    "- If the alien’s color isn’t green, print a statement that the player just earned\n",
    "10 points.\n",
    "- Write one version of this program that runs the if block and another that\n",
    "runs the else block."
   ]
  },
  {
   "cell_type": "code",
   "execution_count": null,
   "id": "66b36c08-c586-4ebd-bd19-4903cca05c36",
   "metadata": {},
   "outputs": [],
   "source": [
    "if alien_color == 'green':\n",
    "    print('Score: +5')\n",
    "else:\n",
    "    print('Score: +10')"
   ]
  },
  {
   "cell_type": "code",
   "execution_count": null,
   "id": "d41fde48-fe3e-4541-8580-2293fe1a65da",
   "metadata": {},
   "outputs": [],
   "source": [
    "if alien_color == 'red':\n",
    "    print('Score: +5')\n",
    "else:\n",
    "    print('Score: +10')"
   ]
  },
  {
   "cell_type": "markdown",
   "id": "6e2ffbe3-8141-4f54-95ef-07f4941278b7",
   "metadata": {},
   "source": [
    "5-5. Alien Colors #3: Turn your if- else chain from Exercise 5-4 into an if- elif-else chain.\n",
    "- If the alien is green, print a message that the player earned 5 points.\n",
    "- If the alien is yellow, print a message that the player earned 10 points.\n",
    "- If the alien is red, print a message that the player earned 15 points.\n",
    "- Write three versions of this program, making sure each message is printed\n",
    "for the appropriate color alien."
   ]
  },
  {
   "cell_type": "code",
   "execution_count": null,
   "id": "7370f813-e2d6-43c0-a582-c94f6a286cc6",
   "metadata": {},
   "outputs": [],
   "source": [
    "alien_color = 'green'\n",
    "if alien_color == 'green':\n",
    "    print(\"Score: +5\")\n",
    "elif alien_color == 'yellow':\n",
    "    print(\"Score: +10\")\n",
    "else:\n",
    "    print(\"Score: +15\")\n",
    "\n",
    "alien_color = 'yellow'\n",
    "if alien_color == 'green':\n",
    "    print(\"Score: +5\")\n",
    "elif alien_color == 'yellow':\n",
    "    print(\"Score: +10\")\n",
    "else:\n",
    "    print(\"Score: +15\")\n",
    "\n",
    "alien_color = 'blue'\n",
    "if alien_color == 'green':\n",
    "    print(\"Score: +5\")\n",
    "elif alien_color == 'yellow':\n",
    "    print(\"Score: +10\")\n",
    "else:\n",
    "    print(\"Score: +15\")"
   ]
  },
  {
   "cell_type": "markdown",
   "id": "0f46a8e5-d455-4be7-bebd-e8eb9eff5eab",
   "metadata": {},
   "source": [
    "5-6. Stages of Life: Write an if- elif- else chain that determines a person’s stage\n",
    "of life. Set a value for the variable age, and then:\n",
    "84\n",
    "Chapter 5\n",
    "- If the person is less than 2 years old, print a message that the person is\n",
    "a baby.\n",
    "- If the person is at least 2 years old but less than 4, print a message that the\n",
    "person is a toddler.\n",
    "- If the person is at least 4 years old but less than 13, print a message that\n",
    "the person is a kid.\n",
    "- If the person is at least 13 years old but less than 20, print a message that\n",
    "the person is a teenager.\n",
    "- If the person is at least 20 years old but less than 65, print a message that\n",
    "the person is an adult.\n",
    "- If the person is age 65 or older, print a message that the person is an elder."
   ]
  },
  {
   "cell_type": "code",
   "execution_count": null,
   "id": "5e29a6b9-8b10-4924-81f5-31b149a3c8e4",
   "metadata": {},
   "outputs": [],
   "source": [
    "age = 13\n",
    "if age < 2:\n",
    "    print('The person is a baby')\n",
    "elif age < 4:\n",
    "    print('The person is a toddler')\n",
    "elif age < 13:\n",
    "    print('The person is a kid')\n",
    "elif age < 20:\n",
    "    print('The person is a teenager')\n",
    "elif age < 65:\n",
    "    print('The person is an adult')\n",
    "else:\n",
    "    print('Ther person is an elder')"
   ]
  },
  {
   "cell_type": "markdown",
   "id": "4b436a48-c2c2-4256-a727-a7f6c4c86a35",
   "metadata": {},
   "source": [
    "5-7. Favorite Fruit: Make a list of your favorite fruits, and then write a series of\n",
    "independent if statements that check for certain fruits in your list.\n",
    "- Make a list of your three favorite fruits and call it favorite_fruits.\n",
    "- Write five if statements. Each should check whether a certain kind of fruit\n",
    "is in your list. If the fruit is in your list, the if block should print a statement,\n",
    "such as You really like bananas!"
   ]
  },
  {
   "cell_type": "code",
   "execution_count": null,
   "id": "3b0fc898-f655-4e7c-804e-f15be11566b6",
   "metadata": {},
   "outputs": [],
   "source": [
    "fruits = ['banana', 'pineaple', 'orange']\n",
    "if 'banana' in fruits:\n",
    "    print('banana is ok')\n",
    "if 'orange' not in fruits:\n",
    "    print('I should add orange')\n",
    "if 'orange' in fruits:\n",
    "    print('wee!')\n",
    "if 'pineaple' in fruits:\n",
    "    print('sell the pineaple')\n",
    "if 'peach' not in fruits:\n",
    "    print('phew')"
   ]
  },
  {
   "cell_type": "markdown",
   "id": "8b34539b-1a00-4cbd-9322-911e479d4eed",
   "metadata": {},
   "source": [
    "5-8. Hello Admin: Make a list of five or more usernames, including the name\n",
    "'admin'. Imagine you are writing code that will print a greeting to each user\n",
    "after they log in to a website. Loop through the list, and print a greeting to\n",
    "each user.\n",
    "- If the username is 'admin', print a special greeting, such as Hello admin,\n",
    "would you like to see a status report?\n",
    "- Otherwise, print a generic greeting, such as Hello Jaden, thank you for\n",
    "logging in again."
   ]
  },
  {
   "cell_type": "code",
   "execution_count": null,
   "id": "67ec34b4-1c38-4470-b46f-dfe5dc0b2b3c",
   "metadata": {},
   "outputs": [],
   "source": [
    "users = ['admin', 'jhon', 'peter', 'hacker', '5n4k3']\n",
    "for user in users:\n",
    "    if user == 'admin':\n",
    "        print(f'Hello {user.title()}, would you like to see the status report?')\n",
    "    else:\n",
    "        print(f'Hello {user.title()}, thank you for logging in again!')"
   ]
  },
  {
   "cell_type": "markdown",
   "id": "5a7c76ed-6122-478a-b86c-168e105c25b2",
   "metadata": {},
   "source": [
    "5-9. No Users: Add an if test to hello_admin.py to make sure the list of users is\n",
    "not empty.\n",
    "- If the list is empty, print the message We need to find some users!\n",
    "- Remove all of the usernames from your list, and make sure the correct message is printed."
   ]
  },
  {
   "cell_type": "code",
   "execution_count": null,
   "id": "71c6691e-9e9f-47b0-b2fa-32d0efdaf9ff",
   "metadata": {},
   "outputs": [],
   "source": [
    "users = []\n",
    "if users:    \n",
    "    for user in users:\n",
    "        if user == 'admin':\n",
    "            print(f'Hello {user.title()}, would you like to see the status report?')\n",
    "        else:\n",
    "            print(f'Hello {user.title()}, thank you for logging in again!')    \n",
    "else:\n",
    "    print('We need to find some users!')"
   ]
  },
  {
   "cell_type": "markdown",
   "id": "75f8095a-4929-469c-a67a-e4fedf9f7801",
   "metadata": {},
   "source": [
    "5-10. Checking Usernames: Do the following to create a program that simulates\n",
    "how websites ensure that everyone has a unique username.\n",
    "- Make a list of five or more usernames called current_users.\n",
    "- Make another list of five usernames called new_users. Make sure one or\n",
    "two of the new usernames are also in the current_users list.\n",
    "- Loop through the new_users list to see if each new username has already\n",
    "been used. If it has, print a message that the person will need to enter a\n",
    "new username. If a username has not been used, print a message saying\n",
    "that the username is available.\n",
    "- Make sure your comparison is case insensitive. If 'John' has been used,\n",
    "'JOHN' should not be accepted. (To do this, you’ll need to make a copy of\n",
    "current_users containing the lowercase versions of all existing users.)"
   ]
  },
  {
   "cell_type": "code",
   "execution_count": null,
   "id": "cf9e2c4b-694a-4134-9e07-d9a1b9c7bd93",
   "metadata": {},
   "outputs": [],
   "source": [
    "current_users = ['admin', 'joker', 'banana', 'hacker', 'smurf']\n",
    "new_users = ['JOKER', 'kid', 'naruto', 'bAnAnA', '007']\n",
    "for new_user in new_users:\n",
    "    if new_user.lower() in current_users:\n",
    "        print(f'User {new_user.title()}, you will have to enter a new username.')"
   ]
  },
  {
   "cell_type": "markdown",
   "id": "4cb4bb3c-5ef2-47db-b4d1-abe1cd595ebf",
   "metadata": {},
   "source": [
    "5-11. Ordinal Numbers: Ordinal numbers indicate their position in a list, such as\n",
    "1st or 2nd. Most ordinal numbers end in th, except 1, 2, and 3.\n",
    "88\n",
    "Chapter 5\n",
    "- Store the numbers 1 through 9 in a list.\n",
    "- Loop through the list.\n",
    "- Use an if- elif- else chain inside the loop to print the proper ordinal ending\n",
    "for each number. Your output should read \"1st 2nd 3rd 4th 5th 6th 7th\n",
    "8th 9th\", and each result should be on a separate line."
   ]
  },
  {
   "cell_type": "code",
   "execution_count": null,
   "id": "016c8011-5571-46c0-ad4f-556cc9a2b3e8",
   "metadata": {},
   "outputs": [],
   "source": [
    "numbers = list(range(1, 10))\n",
    "for number in numbers:\n",
    "    print(number, end=' ')\n",
    "\n",
    "print()\n",
    "for number in numbers:\n",
    "    if number == 1:\n",
    "        print('1st')\n",
    "    elif number == 2:\n",
    "        print('2nd')\n",
    "    elif number == 3:\n",
    "        print('3rd')\n",
    "    else:\n",
    "        print(f'{number}th')"
   ]
  },
  {
   "cell_type": "markdown",
   "id": "bf7af915-5983-4b44-af9b-5abcd7d34167",
   "metadata": {},
   "source": [
    "<hr>\n",
    "\n",
    "## Chapter 6 - Dictionaries"
   ]
  },
  {
   "cell_type": "markdown",
   "id": "5ac389a7-f736-4a57-a235-de9d839b00c7",
   "metadata": {},
   "source": [
    "6-1. Person: Use a dictionary to store information about a person you know.\n",
    "Store their first name, last name, age, and the city in which they live. You\n",
    "should have keys such as first_name, last_name, age, and city. Print each piece\n",
    "of information stored in your dictionary."
   ]
  },
  {
   "cell_type": "code",
   "execution_count": null,
   "id": "7e52bc4b-80c8-40e0-b3d4-6068216a6c74",
   "metadata": {},
   "outputs": [],
   "source": [
    "person = {\n",
    "    'first_name' : 'dracula',\n",
    "    'last_name' : 'unknown',\n",
    "    'age' : 1200,\n",
    "    'country' : 'Transilvania',\n",
    "}\n",
    "\n",
    "print(person.get('name', 'None'))\n",
    "print(person.get('first_name'))\n",
    "print(person['last_name'])\n",
    "print(person['age'])\n",
    "print(person['country'])\n",
    "print(person)"
   ]
  },
  {
   "cell_type": "markdown",
   "id": "7e66f4ec-cfe6-4377-adab-a25362bdc5ca",
   "metadata": {},
   "source": [
    "6-2. Favorite Numbers: Use a dictionary to store people’s favorite numbers.\n",
    "Think of five names, and use them as keys in your dictionary. Think of a favorite number for each person, and store each as a value in your dictionary. Print\n",
    "each person’s name and their favorite number. For even more fun, poll a few\n",
    "friends and get some actual data for your program."
   ]
  },
  {
   "cell_type": "code",
   "execution_count": null,
   "id": "6bfcb96f-06e6-46ee-97b4-fed1212f82dc",
   "metadata": {},
   "outputs": [],
   "source": [
    "favorite_numbers = {\n",
    "    'person_0' : 0,\n",
    "    'person_1' : 1, \n",
    "    'person_2' : 2,\n",
    "    'person_3' : 3,\n",
    "    'person_4' : 4,\n",
    "}\n",
    "\n",
    "# The book didn't cover how to retrieve keys yet\n",
    "# I would have to manually type each name\n",
    "print(favorite_numbers.get('person_0', 'None'))\n",
    "print(favorite_numbers['person_1'])\n",
    "print(favorite_numbers['person_2'])\n",
    "print(favorite_numbers['person_3'])\n",
    "print(favorite_numbers['person_4'])\n",
    "print(favorite_numbers)\n"
   ]
  },
  {
   "cell_type": "markdown",
   "id": "30ed956c-bbbe-4916-a06f-112a301e931a",
   "metadata": {},
   "source": [
    "6-3. Glossary: A Python dictionary can be used to model an actual dictionary.\n",
    "However, to avoid confusion, let’s call it a glossary.\n",
    "- Think of five programming words you’ve learned about in the previous\n",
    "chapters. Use these words as the keys in your glossary, and store their\n",
    "meanings as values.\n",
    "- Print each word and its meaning as neatly formatted output. You might\n",
    "print the word followed by a colon and then its meaning, or print the word\n",
    "on one line and then print its meaning indented on a second line. Use the\n",
    "newline character (\\n) to insert a blank line between each word-meaning\n",
    "pair in your output."
   ]
  },
  {
   "cell_type": "code",
   "execution_count": null,
   "id": "ae04cf34-e7f5-48de-97ce-7a6b7b360e5c",
   "metadata": {},
   "outputs": [],
   "source": [
    "glossary = {\n",
    "    'python' : 'a programing language',\n",
    "    'dictionary' : 'a way of storing key-value pairs',\n",
    "    'list' : 'a dynamic set of data of any type',\n",
    "    'variable' : 'a name for any object stored in memory',\n",
    "    'code' : 'the thing you write to say to computers what they should do',\n",
    "}\n",
    "\n",
    "print(f\"Python:\\n\\t{glossary['python']}\")\n",
    "print(f\"Dictionary:\\n\\t{glossary['dictionary']}\")\n",
    "print(f\"List:\\n\\t{glossary['list']}\")\n",
    "print(f\"Variable:\\n\\t{glossary['variable']}\")\n",
    "print(f\"Code:\\n\\t{glossary['code']}\")"
   ]
  },
  {
   "cell_type": "markdown",
   "id": "2fa4e932-7ee7-4bff-8e8a-83c52359187b",
   "metadata": {},
   "source": [
    "6-4. Glossary 2: Now that you know how to loop through a dictionary, clean\n",
    "up the code from Exercise 6-3 (page 99) by replacing your series of print()\n",
    "calls with a loop that runs through the dictionary’s keys and values. When\n",
    "you’re sure that your loop works, add five more Python terms to your glossary.\n",
    "When you run your program again, these new words and meanings should\n",
    "automatically be included in the output."
   ]
  },
  {
   "cell_type": "code",
   "execution_count": null,
   "id": "2169e7cd-cf8e-4558-9e1d-79d421cae9f6",
   "metadata": {},
   "outputs": [],
   "source": [
    "for term, meaning in glossary.items():\n",
    "    print(f\"{term.title()}:\\n\\t{meaning}\")"
   ]
  },
  {
   "cell_type": "code",
   "execution_count": null,
   "id": "ece68c8f-5eca-4068-a68b-324477b304b1",
   "metadata": {},
   "outputs": [],
   "source": [
    "glossary['numpy'] = 'a module written in C to do scientific computations'\n",
    "glossary['matplotlib'] = 'a module used to plot data into graphics'\n",
    "glossary['set'] = 'it is like a list, but items do not reapeat, and uses {}'\n",
    "glossary['tuple'] = 'it is like a list, but immutable'\n",
    "glossary['none'] = 'a value that says there is no value'\n",
    "\n",
    "for term, meaning in glossary.items():\n",
    "    print(f\"{term.title()}:\\n\\t{meaning}\")"
   ]
  },
  {
   "cell_type": "markdown",
   "id": "2dcc8780-6e28-47f7-9f2d-7dfe58b6bfe5",
   "metadata": {},
   "source": [
    "6-5. Rivers: Make a dictionary containing three major rivers and the country\n",
    "each river runs through. One key-value pair might be 'nile': 'egypt'.\n",
    "- Use a loop to print a sentence about each river, such as The Nile runs\n",
    "through Egypt.\n",
    "- Use a loop to print the name of each river included in the dictionary.\n",
    "- Use a loop to print the name of each country included in the dictionary."
   ]
  },
  {
   "cell_type": "code",
   "execution_count": null,
   "id": "46563ae0-cd9d-4a97-b67f-94827280c707",
   "metadata": {},
   "outputs": [],
   "source": [
    "rivers = {\n",
    "    'nile' : 'egypt',\n",
    "    'amazon' : 'brazil',\n",
    "    'yangtze' : 'china',\n",
    "}\n",
    "\n",
    "# using default method\n",
    "for river in rivers:\n",
    "    print(f\"The {river.title()} river runs through {rivers[river].title()}\")"
   ]
  },
  {
   "cell_type": "markdown",
   "id": "77823e0c-16a9-4ee2-8bb3-9225d8112cbf",
   "metadata": {},
   "source": [
    "6-6. Polling: Use the code in favorite_languages.py (page 96).\n",
    "- Make a list of people who should take the favorite languages poll. Include\n",
    "some names that are already in the dictionary and some that are not.\n",
    "- Loop through the list of people who should take the poll. If they have\n",
    "already taken the poll, print a message thanking them for responding.\n",
    "If they have not yet taken the poll, print a message inviting them to take\n",
    "the poll."
   ]
  },
  {
   "cell_type": "code",
   "execution_count": null,
   "id": "b885a86c-44af-4106-bd97-d9d1f8f0f71f",
   "metadata": {},
   "outputs": [],
   "source": [
    "favorite_languages = {\n",
    "    'leon' : 'c',\n",
    "    'naruto' : 'ruby',\n",
    "    'he-man' : 'c',\n",
    "    'dracula' : 'java',\n",
    "    'hakerman' : 'python',\n",
    "    'vader' : 'python',\n",
    "}\n",
    "\n",
    "people_to_take_poll = ['dracula', 'ichigo', 'trump', 'skeletor', 'naruto', 'vader', 'sakura']\n",
    "\n",
    "for person in people_to_take_poll:\n",
    "    if person in favorite_languages.keys():\n",
    "        print(f'Thanks {person.title()} for taking the poll.')\n",
    "    else:\n",
    "        print(f\"You still didn't take our poll {person.title()}. Plese do it!\")"
   ]
  },
  {
   "cell_type": "code",
   "execution_count": null,
   "id": "f17435a6-d567-40db-8370-c0ebaad8e66c",
   "metadata": {},
   "outputs": [],
   "source": [
    "# Get values, remove copies, order them and print\n",
    "languages_mentioned = sorted(set(favorite_languages.values()))\n",
    "print(f\"Languages mentioned: {languages_mentioned}\")"
   ]
  },
  {
   "cell_type": "markdown",
   "id": "70ac03ce-db1f-49dd-8f98-4c2bbedf8449",
   "metadata": {},
   "source": [
    "6-7. People: Start with the program you wrote for Exercise 6-1 (page 98). Make \n",
    "two new dictionaries representing different people, and store all three dictionaries in a list called people. Loop through your list of people. As you loop through \n",
    "the list, print everything you know about each person."
   ]
  },
  {
   "cell_type": "code",
   "execution_count": null,
   "id": "d10e7679-2c06-4f74-90a0-93fee34cd6bf",
   "metadata": {},
   "outputs": [],
   "source": [
    "person_01 = {\n",
    "    'first_name' : 'dracula',\n",
    "    'last_name' : 'unknown',\n",
    "    'age' : 1200,\n",
    "    'country' : 'romania',\n",
    "}\n",
    "\n",
    "person_02 = {\n",
    "    'first_name' : 'naruto',\n",
    "    'last_name' : 'uzumaki',\n",
    "    'age' : 15,\n",
    "    'country' : 'acre',\n",
    "}\n",
    "\n",
    "person_03 = {\n",
    "    'first_name' : 'hackerman',\n",
    "    'last_name' : 'hacker',\n",
    "    'age' : '??',\n",
    "    'country' : '????? ?????',\n",
    "}\n",
    "\n",
    "people = [ person_01, person_02, person_03 ]\n",
    "\n",
    "for person in people:    \n",
    "    for key, value in person.items():    \n",
    "        print(f\"{key}: {str(value).title()}\")\n",
    "    print()"
   ]
  },
  {
   "cell_type": "markdown",
   "id": "da342372-3ece-48e4-a789-6bb1d432a175",
   "metadata": {},
   "source": [
    "6-8. Pets: Make several dictionaries, where each dictionary represents a different pet. In each dictionary, include the kind of animal and the owner’s name. \n",
    "Store these dictionaries in a list called pets. Next, loop through your list and as \n",
    "you do, print everything you know about each pet."
   ]
  },
  {
   "cell_type": "code",
   "execution_count": null,
   "id": "9ae43fc3-a1d0-481a-bdc8-3bf59fd1d299",
   "metadata": {},
   "outputs": [],
   "source": [
    "pet_0 = {\n",
    "    'species' : 'bat',\n",
    "    'owner' : 'dracula',\n",
    "}\n",
    "\n",
    "pet_1 = {\n",
    "    'species' : 'dog',\n",
    "    'owner' : 'superman',\n",
    "}\n",
    "\n",
    "pet_2 = {\n",
    "    'species' : 'shark',\n",
    "    'owner' : 'aquaman',\n",
    "}\n",
    "\n",
    "pet_3 = {\n",
    "    'species' : 'spyder',\n",
    "    'owner' : 'peter parker',\n",
    "}\n",
    "\n",
    "pet_4 = {\n",
    "    'species' : 'cat',\n",
    "    'owner' : 'catwoman',\n",
    "}\n",
    "\n",
    "pets = [ pet_0, pet_1, pet_2, pet_3, pet_4 ]\n",
    "\n",
    "for pet in pets:\n",
    "    for key, value in pet.items():\n",
    "        print(f\"{key}: {value}\")\n",
    "    print()"
   ]
  },
  {
   "cell_type": "markdown",
   "id": "a0a29989-f6d5-4349-8193-0ca11a0b2e41",
   "metadata": {},
   "source": [
    "6-9. Favorite Places: Make a dictionary called favorite_places. Think of three \n",
    "names to use as keys in the dictionary, and store one to three favorite places for \n",
    "each person. To make this exercise a bit more interesting, ask some friends to \n",
    "name a few of their favorite places. Loop through the dictionary, and print each \n",
    "person’s name and their favorite places."
   ]
  },
  {
   "cell_type": "code",
   "execution_count": null,
   "id": "5db32e83-a697-42c8-8da0-f84a110ecd59",
   "metadata": {},
   "outputs": [],
   "source": [
    "favorite_places = {\n",
    "    'dracula' : [ 'london', 'romania', 'transylvania' ],\n",
    "    'naruto' : [ 'konohagakure', 'ichiraku ramen stand', 'sunagakure' ],\n",
    "    'batman' : [ 'gotham city', 'wayne manor', 'the batcave' ],    \n",
    "}\n",
    "\n",
    "for person, places in favorite_places.items():\n",
    "    print(f\"\\n{person.title()}'s favorite places are:\")\n",
    "    for place in places:\n",
    "        print(3 * \" \",place.title())"
   ]
  },
  {
   "cell_type": "markdown",
   "id": "4ac9be2b-d128-4359-8fc2-8cfbb3ee285b",
   "metadata": {},
   "source": [
    "6-10. Favorite Numbers: Modify your program from Exercise 6-2 (page 98) so \n",
    "each person can have more than one favorite number. Then print each person’s \n",
    "name along with their favorite numbers."
   ]
  },
  {
   "cell_type": "code",
   "execution_count": null,
   "id": "fb036708-265b-4695-8f41-bd2ffce0a40b",
   "metadata": {},
   "outputs": [],
   "source": [
    "favorite_numbers = {\n",
    "    'roger' : [ 123, 456, 789],\n",
    "    'bruce' : [ .007, .008, .009, .010], \n",
    "    'grace' : [ 3.1415, 2.7183],\n",
    "    'jackson' : [ 1, 2, 3],\n",
    "    'bilbo' : [ 99, 88, 77, 66, 55, 44, 33, 22, 11, .0 ],\n",
    "}\n",
    "\n",
    "for name, fav_nums in favorite_numbers.items():\n",
    "    print(f\"{name.title()}'s favorite numbers are:\")\n",
    "    for number in fav_nums:\n",
    "        print(f\"  {number}\", end=\"\")\n",
    "    print('\\n')"
   ]
  },
  {
   "cell_type": "markdown",
   "id": "71b3b2b1-5a43-4560-bb59-a2b836f09ed3",
   "metadata": {},
   "source": [
    "6-11. Cities: Make a dictionary called cities. Use the names of three cities as \n",
    "keys in your dictionary. Create a dictionary of information about each city and \n",
    "include the country that the city is in, its approximate population, and one fact \n",
    "about that city. The keys for each city’s dictionary should be something like \n",
    "country, population, and fact. Print the name of each city and all of the information you have stored about it."
   ]
  },
  {
   "cell_type": "code",
   "execution_count": null,
   "id": "8013e15b-4377-4bba-9a63-c379199545af",
   "metadata": {},
   "outputs": [],
   "source": [
    "cities = {\n",
    "    'porto alegre' : \n",
    "        {\n",
    "            'country' : 'brazil',\n",
    "            'population' : 1_389_322,\n",
    "            'fact' : 'the city suffered a big flood in 2024',\n",
    "        },\n",
    "    'new york' : \n",
    "        {\n",
    "            'country' : 'united states of america',\n",
    "            'population' : 19_469_200,\n",
    "            'fact' : 'known for the times square and the liberty statue',\n",
    "        },\n",
    "    'tokyo' :\n",
    "        {\n",
    "            'country' : 'japan',\n",
    "            'population' : 37_115_000,\n",
    "            'fact' : 'it has the most Michelin-starred restaurants in the world, a total of 212',\n",
    "        },\n",
    "}\n",
    "\n",
    "for city, info in cities.items():\n",
    "    print(f\"City's Name: {city.title()}\")\n",
    "    for key, value in info.items():\n",
    "        print(f\"   {key}:\", end=\" \")\n",
    "        if key.lower() == 'fact':\n",
    "            print(value)\n",
    "        else:\n",
    "            print(str(value).title())\n",
    "    print()"
   ]
  },
  {
   "cell_type": "markdown",
   "id": "edd322dc-ad63-4b70-a5d2-44bbea0a35d0",
   "metadata": {},
   "source": [
    "<hr>\n",
    "\n",
    "## Chapter 7 - User Input and While Loop"
   ]
  },
  {
   "cell_type": "markdown",
   "id": "3fb24b52-b9a5-4d1c-bf8a-efc8f5eb0df9",
   "metadata": {},
   "source": [
    "7-1. Rental Car: Write a program that asks the user what kind of rental car they \n",
    "would like. Print a message about that car, such as “Let me see if I can find you \n",
    "a Subaru.”"
   ]
  },
  {
   "cell_type": "code",
   "execution_count": null,
   "id": "257a8eb3-7c25-4bc2-a5e1-fb58a8aa8c7b",
   "metadata": {},
   "outputs": [],
   "source": [
    "car = input('What kind of car you want? ')\n",
    "print(f\"Let me see if I can find you a {car}.\")"
   ]
  },
  {
   "cell_type": "markdown",
   "id": "fb1d3ba1-aedc-4f2e-87c7-f80d4fb347fa",
   "metadata": {},
   "source": [
    "7-2. Restaurant Seating: Write a program that asks the user how many people \n",
    "are in their dinner group. If the answer is more than eight, print a message saying \n",
    "they’ll have to wait for a table. Otherwise, report that their table is ready."
   ]
  },
  {
   "cell_type": "code",
   "execution_count": null,
   "id": "d972fc6a-c04d-4ee7-87ad-1e3c83c3376a",
   "metadata": {},
   "outputs": [],
   "source": [
    "num_of_people = input('How many people are in your dinner group? ')\n",
    "num_of_people = int(num_of_people)\n",
    "if num_of_people > 8:\n",
    "    print('You will have to wait for a table.')\n",
    "else:\n",
    "    print('Your table is ready.')"
   ]
  },
  {
   "cell_type": "markdown",
   "id": "1976a310-d36e-4b46-8ea6-61b2d3e90606",
   "metadata": {},
   "source": [
    "7-3. Multiples of Ten: Ask the user for a number, and then report whether the \n",
    "number is a multiple of 10 or not."
   ]
  },
  {
   "cell_type": "code",
   "execution_count": null,
   "id": "d9b7860f-64c9-498f-88fd-7f94c1406387",
   "metadata": {},
   "outputs": [],
   "source": [
    "number = int(input('Enter an integer number: '))\n",
    "if number % 10 == 0:\n",
    "    print(f'{number} is a multiple of 10.')\n",
    "else:\n",
    "    print(f'{number} is not a multiple of 10.')"
   ]
  },
  {
   "cell_type": "markdown",
   "id": "85bb8303-7ada-42a1-9c45-b9dd54c6f0c6",
   "metadata": {},
   "source": [
    "7-4. Pizza Toppings: Write a loop that prompts the user to enter a series of \n",
    "pizza toppings until they enter a 'quit' value. As they enter each topping, print \n",
    "a message saying you’ll add that topping to their pizza."
   ]
  },
  {
   "cell_type": "code",
   "execution_count": null,
   "id": "13609fbf-7215-4f9e-8cfa-9de8c31ae146",
   "metadata": {},
   "outputs": [],
   "source": [
    "active = True\n",
    "while active:\n",
    "    prompt = 'Enter a pizza topping: '\n",
    "    option = input(prompt)\n",
    "    if option == 'quit':\n",
    "        break\n",
    "    print(f\"I'm adding {option} to your pizza.\")    "
   ]
  },
  {
   "cell_type": "markdown",
   "id": "b566913f-98b7-45df-9ddd-800e429a57b2",
   "metadata": {},
   "source": [
    "7-5. Movie Tickets: A movie theater charges different ticket prices depending on \n",
    "a person’s age. If a person is under the age of 3, the ticket is free; if they are \n",
    "between 3 and 12, the ticket is \\\\$10; and if they are over age 12, the ticket is \n",
    "\\\\$15. Write a loop in which you ask users their age, and then tell them the cost \n",
    "of their movie ticket."
   ]
  },
  {
   "cell_type": "code",
   "execution_count": null,
   "id": "be3d6948-12c0-4dfc-aa7f-533a25a128de",
   "metadata": {},
   "outputs": [],
   "source": [
    "active = True\n",
    "while active:\n",
    "    answer = input('Enter your age (or \"quit\" to exit): ')\n",
    "    if answer == 'quit':\n",
    "        break\n",
    "\n",
    "    # not sure if this works, I didn't learn it yet\n",
    "    try: \n",
    "        answer = int(answer)\n",
    "    except TypeError:\n",
    "        print(\"You're supposed to enter a number.\")\n",
    "    except:\n",
    "        continue\n",
    "        \n",
    "    if  answer < 3:\n",
    "        print('Your ticket is free.')\n",
    "    elif answer < 12:\n",
    "        print(\"Your tichet is $10.\")\n",
    "    else:\n",
    "        print(\"Your ticket is $15.\")\n",
    "            "
   ]
  },
  {
   "cell_type": "markdown",
   "id": "7f42c048-c395-4ea3-8786-ffa0c2d615a9",
   "metadata": {},
   "source": [
    "7-6. Three Exits: Write different versions of either Exercise 7-4 or 7-5 that do \n",
    "each of the following at least once:\n",
    "- Use a conditional test in the while statement to stop the loop.\n",
    "- Use an active variable to control how long the loop runs.\n",
    "- Use a break statement to exit the loop when the user enters a 'quit' value."
   ]
  },
  {
   "cell_type": "code",
   "execution_count": null,
   "id": "9784abba-414d-4b0d-8992-2755bbb416f3",
   "metadata": {},
   "outputs": [],
   "source": [
    "# I did the last two already\n",
    "# This version is really bad\n",
    "# It adds 'quit' to the pizza\n",
    "answer = ''\n",
    "while answer != 'quit':   \n",
    "    answer = input('Enter a pizza topping: ')\n",
    "    print(f\"I'm adding {answer} to your pizza.\")"
   ]
  },
  {
   "cell_type": "markdown",
   "id": "7e296a5f-b73f-466a-8b10-dcd0634191a6",
   "metadata": {},
   "source": [
    "7-8. Deli: Make a list called sandwich_orders and fill it with the names of various \n",
    "sandwiches. Then make an empty list called finished_sandwiches. Loop through \n",
    "the list of sandwich orders and print a message for each order, such as I made \n",
    "your tuna sandwich. As each sandwich is made, move it to the list of finished \n",
    "sandwiches. After all the sandwiches have been made, print a message listing \n",
    "each sandwich that was made."
   ]
  },
  {
   "cell_type": "code",
   "execution_count": null,
   "id": "cde3370a-6190-4452-84ef-434f1d7eba20",
   "metadata": {},
   "outputs": [],
   "source": [
    "sandwich_orders = [ 'dagwood', 'gatsby', 'blt', 'submarine', 'slider', 'chimichurri' ]\n",
    "finished_sandwiches = []\n",
    "\n",
    "while sandwich_orders:    \n",
    "    current_order = sandwich_orders.pop()\n",
    "    print(f'I made your {current_order} sandwich.')\n",
    "    finished_sandwiches.append(current_order)\n",
    "\n",
    "print('\\n---- Sandwiches Made ----')\n",
    "for sandwich in finished_sandwiches:\n",
    "    print(f\"{sandwich}\")\n",
    "\n",
    "print(f\"\\nSandwich orders: {sandwich_orders}\")"
   ]
  },
  {
   "cell_type": "markdown",
   "id": "a4e69575-dc45-4d70-9d2b-837ebf04270b",
   "metadata": {},
   "source": [
    "7-9. No Pastrami: Using the list sandwich_orders from Exercise 7-8, make sure \n",
    "the sandwich 'pastrami' appears in the list at least three times. Add code \n",
    "near the beginning of your program to print a message saying the deli has \n",
    "run out of pastrami, and then use a while loop to remove all occurrences of \n",
    "'pastrami' from sandwich_orders. Make sure no pastrami sandwiches end up \n",
    "in finished_sandwiches."
   ]
  },
  {
   "cell_type": "code",
   "execution_count": null,
   "id": "fe3d8417-61f1-4934-ad23-351f2180b49d",
   "metadata": {},
   "outputs": [],
   "source": [
    "sandwich_orders = [ 'dagwood', 'pastrami', 'gatsby', 'blt', 'pastrami', 'submarine', 'slider', 'chimichurri', 'pastrami' ]\n",
    "\n",
    "print('The deli has run out of pastrami.')\n",
    "while 'pastrami' in sandwich_orders:\n",
    "    sandwich_orders.remove('pastrami')\n",
    "print(sandwich_orders)\n"
   ]
  },
  {
   "cell_type": "markdown",
   "id": "6bd5cbb0-bb03-4513-9223-b59da613edf0",
   "metadata": {},
   "source": [
    "7-10. Dream Vacation: Write a program that polls users about their dream vacation. Write a prompt similar to If you could visit one place in the world, where \n",
    "would you go? Include a block of code that prints the results of the poll."
   ]
  },
  {
   "cell_type": "code",
   "execution_count": null,
   "id": "0fc514da-137a-40ac-89ca-7611ed21c47e",
   "metadata": {},
   "outputs": [],
   "source": [
    "# A dictionary?\n",
    "answers = {}\n",
    "active = True\n",
    "while active:\n",
    "    name = input('What is your name?')\n",
    "    place = input('If you could visit a place inthe world, where would you go?')\n",
    "    answers[name] = place\n",
    "    if input('Continue poll? [yes/no]') == 'no': \n",
    "        break\n",
    "\n",
    "print()\n",
    "for name, place in answers.items():\n",
    "    print(f\"{name.title()} would like to visit {place.title()}\")\n"
   ]
  },
  {
   "cell_type": "markdown",
   "id": "920e9598-2d77-4839-80ee-189ec95a0795",
   "metadata": {},
   "source": [
    "<hr>\n",
    "\n",
    "## Chapter 8 - Functions"
   ]
  },
  {
   "cell_type": "markdown",
   "id": "796705e9-fc31-4142-b9c1-200a124cb396",
   "metadata": {},
   "source": [
    "8-1. Message: Write a function called display_message() that prints one sentence telling everyone what you are learning about in this chapter. Call the \n",
    "function, and make sure the message displays correctly."
   ]
  },
  {
   "cell_type": "code",
   "execution_count": null,
   "id": "c6ca0446-b16f-4f76-b1a5-d1b1014f7015",
   "metadata": {},
   "outputs": [],
   "source": [
    "def display_message():\n",
    "    print(\"Hello everyone! I'm learning functions in Python!\")\n",
    "\n",
    "display_message()"
   ]
  },
  {
   "cell_type": "markdown",
   "id": "36cffbae-5180-4440-8bf3-b31de5f0c6e2",
   "metadata": {},
   "source": [
    "8-2. Favorite Book: Write a function called favorite_book() that accepts one \n",
    "parameter, title. The function should print a message, such as One of my \n",
    "favorite books is Alice in Wonderland. Call the function, making sure to \n",
    "include a book title as an argument in the function call."
   ]
  },
  {
   "cell_type": "code",
   "execution_count": null,
   "id": "a72be2d9-5a40-4844-b457-57d680adb35f",
   "metadata": {},
   "outputs": [],
   "source": [
    "def favorite_book(title):\n",
    "    print(f\"One of my favorite books is {title.title()}\")\n",
    "\n",
    "favorite_book('Dracula')\n",
    "favorite_book('The Lord of the Rings')\n",
    "favorite_book('I Robot')"
   ]
  },
  {
   "cell_type": "markdown",
   "id": "b61b0a5c-1ae1-46af-9c7b-9d6ca247ce5e",
   "metadata": {},
   "source": [
    "8-3. T-Shirt: Write a function called make_shirt() that accepts a size and the \n",
    "text of a message that should be printed on the shirt. The function should print a \n",
    "sentence summarizing the size of the shirt and the message printed on it.\n",
    "Call the function once using positional arguments to make a shirt. Call the \n",
    "function a second time using keyword arguments."
   ]
  },
  {
   "cell_type": "code",
   "execution_count": null,
   "id": "d5de5120-f72b-47c4-98e5-9ad354196f5e",
   "metadata": {},
   "outputs": [],
   "source": [
    "def make_shirt(size, text):\n",
    "    print(f\"The size will be {size},\\n the message will be {text}\")\n",
    "\n",
    "make_shirt('small', 'hello world')\n",
    "make_shirt(text='hello world', size='small')"
   ]
  },
  {
   "cell_type": "markdown",
   "id": "cf07f44a-b7d9-40fd-b0c8-6e1e28d07a4b",
   "metadata": {},
   "source": [
    "8-4. Large Shirts: Modify the make_shirt() function so that shirts are large \n",
    "by default with a message that reads I love Python. Make a large shirt and a \n",
    "medium shirt with the default message, and a shirt of any size with a different \n",
    "message."
   ]
  },
  {
   "cell_type": "code",
   "execution_count": null,
   "id": "5d42e469-6d07-4cba-ae79-7a960748fdd2",
   "metadata": {},
   "outputs": [],
   "source": [
    "def make_shirt(size='large', text='I love Python'):\n",
    "    print(f\"The size will be {size},\\n the message will be {text}\")\n",
    "\n",
    "make_shirt()\n",
    "make_shirt('medium')\n",
    "make_shirt('small', 'Hello World')\n",
    "make_shirt(text='Java sucks', size='medium')"
   ]
  },
  {
   "cell_type": "markdown",
   "id": "eea08706-b90f-4ce1-8834-4c94d0f1983c",
   "metadata": {},
   "source": [
    "8-5. Cities: Write a function called describe_city() that accepts the name of \n",
    "a city and its country. The function should print a simple sentence, such as \n",
    "Reykjavik is in Iceland. Give the parameter for the country a default value. \n",
    "Call your function for three different cities, at least one of which is not in the \n",
    "default country."
   ]
  },
  {
   "cell_type": "code",
   "execution_count": null,
   "id": "cac40c32-1489-4f0d-88bc-d491c6d7620c",
   "metadata": {},
   "outputs": [],
   "source": [
    "def describe_city(city_name, country='Japan'):\n",
    "    print(f\"{city_name.title()} is a city in {country.title()}\")\n",
    "\n",
    "describe_city('Tokyo')\n",
    "describe_city('Yokohama')\n",
    "describe_city(city_name='New York')"
   ]
  },
  {
   "cell_type": "markdown",
   "id": "8e157a8b-cf0a-4049-a5a2-6c124e9882e8",
   "metadata": {},
   "source": [
    "8-6. City Names: Write a function called city_country() that takes in the name \n",
    "of a city and its country. The function should return a string formatted like this:\n",
    "\"Santiago, Chile\" <br>\n",
    "Call your function with at least three city-country pairs, and print the values \n",
    "that are returned."
   ]
  },
  {
   "cell_type": "code",
   "execution_count": null,
   "id": "283c1ffd-f1a7-44e7-9bd2-eadd112c4e2c",
   "metadata": {},
   "outputs": [],
   "source": [
    "def city_country(city_name, country):\n",
    "    return f\"{city_name.title()}, {country.title()}\"\n",
    "\n",
    "print(city_country('tokyo', 'japan'))\n",
    "print(city_country('toronto', 'canada'))\n",
    "text = city_country('rio de janeiro', 'brazil')\n",
    "print(text)"
   ]
  },
  {
   "cell_type": "markdown",
   "id": "e0605402-a6aa-4695-85f7-202b33c6e9d9",
   "metadata": {},
   "source": [
    "8-7. Album: Write a function called make_album() that builds a dictionary \n",
    "describing a music album. The function should take in an artist name and an \n",
    "album title, and it should return a dictionary containing these two pieces of \n",
    "information. Use the function to make three dictionaries representing different \n",
    "albums. Print each return value to show that the dictionaries are storing the \n",
    "album information correctly.\n",
    "Use None to add an optional parameter to make_album() that allows you to \n",
    "store the number of songs on an album. If the calling line includes a value for \n",
    "the number of songs, add that value to the album’s dictionary. Make at least \n",
    "one new function call that includes the number of songs on an album."
   ]
  },
  {
   "cell_type": "code",
   "execution_count": null,
   "id": "de741011-6122-4593-9a72-7bb4de1d8db7",
   "metadata": {},
   "outputs": [],
   "source": [
    "def make_album(artist_name, album_title, songs_number=None):\n",
    "    if songs_number:\n",
    "        album = { 'artist' : artist_name, 'album' : album_title, 'number of tracks' : songs_number }\n",
    "    else:\n",
    "        album = { 'artist' : artist_name, 'album' : album_title }    \n",
    "    return album\n",
    "\n",
    "print(make_album('angra', 'temple of hate'))\n",
    "print(make_album('iron maiden', 'brave new world'))\n",
    "print(make_album('nightwish', 'once', 11))\n",
    "print(type(make_album('angra', 'temple of hate')))"
   ]
  },
  {
   "cell_type": "markdown",
   "id": "bad74a7a-9df4-4023-a2bb-5850cbe5fd4b",
   "metadata": {},
   "source": [
    "8-8. User Albums: Start with your program from Exercise 8-7. Write a while \n",
    "loop that allows users to enter an album’s artist and title. Once you have that \n",
    "information, call make_album() with the user’s input and print the dictionary \n",
    "that’s created. Be sure to include a quit value in the while loop."
   ]
  },
  {
   "cell_type": "code",
   "execution_count": null,
   "id": "510791d5-b889-49c4-82c8-9317cdafc537",
   "metadata": {},
   "outputs": [],
   "source": [
    "def make_album(artist_name, album_title, songs_number=None):\n",
    "    if songs_number:\n",
    "        album = { 'artist' : artist_name, 'album' : album_title, 'number of tracks' : songs_number }\n",
    "    else:\n",
    "        album = { 'artist' : artist_name, 'album' : album_title }    \n",
    "    return album\n",
    "\n",
    "while True:\n",
    "    artist = input('\\nEnter an artist name (or q to quit): ')\n",
    "    if artist.lower() == 'q':\n",
    "        break    \n",
    "    album = input('Enter the album title (or q to quit): ')\n",
    "    if album.lower() == 'q':\n",
    "        break\n",
    "    result = make_album(artist, album)\n",
    "    print(result)"
   ]
  },
  {
   "cell_type": "markdown",
   "id": "6f7384fd-2bcc-4163-9b2e-6df413618768",
   "metadata": {},
   "source": [
    "8-9. Messages: Make a list containing a series of short text messages. Pass the \n",
    "list to a function called show_messages(), which prints each text message."
   ]
  },
  {
   "cell_type": "code",
   "execution_count": null,
   "id": "30f0c74f-bdd4-41d5-8c01-9839be35f4e0",
   "metadata": {},
   "outputs": [],
   "source": [
    "messages = [ 'hallo', 'tschuss', 'guten tag', 'es regnet', 'mir geht es gut' ]\n",
    "\n",
    "def show_messages(messages):\n",
    "    \"\"\" Prints a list of messages \"\"\"\n",
    "    for message in messages:\n",
    "        print(message)\n",
    "\n",
    "show_messages(messages)"
   ]
  },
  {
   "cell_type": "markdown",
   "id": "345b81e7-a0e8-456f-a914-417d5e194cff",
   "metadata": {},
   "source": [
    "8-10. Sending Messages: Start with a copy of your program from Exercise 8-9. \n",
    "Write a function called send_messages() that prints each text message and \n",
    "moves each message to a new list called sent_messages as it’s printed. After \n",
    "calling the function, print both of your lists to make sure the messages were \n",
    "moved correctly."
   ]
  },
  {
   "cell_type": "code",
   "execution_count": null,
   "id": "81794f95-10c2-44be-8b3b-96f2501441cd",
   "metadata": {},
   "outputs": [],
   "source": [
    "messages = [ 'hallo', 'tschuss', 'guten tag', 'es regnet', 'mir geht es gut' ]\n",
    "sent_messages = []\n",
    "\n",
    "def send_messages(messages, sent_messages):\n",
    "    \"\"\" Prints messages and send them to another list \"\"\"\n",
    "    while messages:\n",
    "        message = messages.pop()\n",
    "        print(message)\n",
    "        sent_messages.append(message)\n",
    "    \n",
    "print(\"messages: \", messages)\n",
    "print(\"sent_messages: \", sent_messages, end=\"\\n\\n\")\n",
    "\n",
    "send_messages(messages, sent_messages)\n",
    "\n",
    "print(\"\\nmessages: \", messages)\n",
    "print(\"sent_messages: \", sent_messages)"
   ]
  },
  {
   "cell_type": "markdown",
   "id": "02992b63-b8df-4751-b5da-efdbc5a59fe2",
   "metadata": {},
   "source": [
    "8-11. Archived Messages: Start with your work from Exercise 8-10. Call the function send_messages() with a copy of the list of messages. After calling the function, print both of your lists to show that the original list has retained its messages."
   ]
  },
  {
   "cell_type": "code",
   "execution_count": null,
   "id": "08e6f3d6-9492-4080-8b3f-9c3a80033ec1",
   "metadata": {},
   "outputs": [],
   "source": [
    "messages = [ 'hallo', 'tschuss', 'guten tag', 'es regnet', 'mir geht es gut' ]\n",
    "sent_messages = []\n",
    "\n",
    "def send_messages(messages, sent_messages):\n",
    "    \"\"\" Prints messages and send them to another list \"\"\"\n",
    "    while messages:\n",
    "        message = messages.pop()\n",
    "        print(message)\n",
    "        sent_messages.append(message)\n",
    "    \n",
    "print(\"messages: \", messages)\n",
    "print(\"sent_messages: \", sent_messages, end=\"\\n\\n\")\n",
    "\n",
    "# Slice notation sends a copy of the list to the function, original is kept\n",
    "send_messages(messages[:], sent_messages)\n",
    "\n",
    "print(\"\\nmessages: \", messages)\n",
    "print(\"sent_messages: \", sent_messages)"
   ]
  },
  {
   "cell_type": "markdown",
   "id": "f2346944-4a18-4bdb-829d-8e834c15422f",
   "metadata": {},
   "source": [
    "8-12. Sandwiches: Write a function that accepts a list of items a person wants on a sandwich. The function should have one parameter that collects as many \n",
    "items as the function call provides, and it should print a summary of the sandwich that’s being ordered. Call the function three times, using a different number of arguments each time."
   ]
  },
  {
   "cell_type": "code",
   "execution_count": null,
   "id": "471c5d61-4b9f-4a85-a47a-eb0af13b5888",
   "metadata": {},
   "outputs": [],
   "source": [
    "# A function that acceps an arbitrary number of arguments (*args)\n",
    "def make_sandwich(*items):\n",
    "    print(\"Making a sandwich with the following:\")\n",
    "    for item in items:\n",
    "        print(f\"\\t-{item};\")\n",
    "\n",
    "make_sandwich('cheese', 'meat')\n",
    "make_sandwich('meat', 'cheese', 'eggs', 'ketchup')\n",
    "make_sandwich('meat', 'cheese', 'tomatoes', 'eggs', 'lettuce', 'mayonnaise')"
   ]
  },
  {
   "cell_type": "markdown",
   "id": "ec49c9d2-c885-43d7-8155-c92c410b3d72",
   "metadata": {},
   "source": [
    "8-13. User Profile: Start with a copy of user_profile.py from page 148. Build a profile of yourself by calling build_profile(), using your first and last names \n",
    "and three other key-value pairs that describe you."
   ]
  },
  {
   "cell_type": "code",
   "execution_count": null,
   "id": "cb26f939-d0a8-4540-8e89-85073cd4f871",
   "metadata": {},
   "outputs": [],
   "source": [
    "def build_profile(first_name, last_name, **user_info):\n",
    "    \"\"\" Builds a dictionary containing info on the user \"\"\"\n",
    "    user_info['first_name'] = first_name\n",
    "    user_info['last_name'] = last_name\n",
    "    return user_info\n",
    "\n",
    "user_profile = build_profile(\n",
    "    'carl', 'sagan',\n",
    "    field='astrophysics',\n",
    "    location='cornell university',\n",
    "    known_for='cosmos: a personal voyage',\n",
    "    thesis='physical stdies of planets',\n",
    "    doctoral_advisor='gerard kuiper',\n",
    ")\n",
    "\n",
    "print(user_profile)"
   ]
  },
  {
   "cell_type": "markdown",
   "id": "764ec0d6-1039-45fc-8243-985e177cf8c1",
   "metadata": {},
   "source": [
    "8-14. Cars: Write a function that stores information about a car in a dictionary. The function should always receive a manufacturer and a model name. It \n",
    "should then accept an arbitrary number of keyword arguments. Call the function with the required information and two other name-value pairs, such as a \n",
    "color or an optional feature. Your function should work for a call like this one:\n",
    "```car = make_car('subaru', 'outback', color='blue', tow_package=True)```\n",
    "Print the dictionary that’s returned to make sure all the information was stored correctly."
   ]
  },
  {
   "cell_type": "code",
   "execution_count": null,
   "id": "3647fc92-bbd9-49c4-b75d-5587184c9d7d",
   "metadata": {},
   "outputs": [],
   "source": [
    "def car_info_builder(manufacturer, model_name, **car_info):\n",
    "    \"\"\" Builds a dictionary with info about a car \"\"\"\n",
    "    car_info['manufacturer'] = manufacturer\n",
    "    car_info['model_name'] = model_name\n",
    "    return car_info\n",
    "\n",
    "car = car_info_builder(\n",
    "    'subaru', 'outback',\n",
    "    color='blue',\n",
    "    tow_package=True,\n",
    ")\n",
    "\n",
    "print(car)"
   ]
  },
  {
   "cell_type": "markdown",
   "id": "f9c3b322-ccf7-471f-afcc-e2b3d694cc1d",
   "metadata": {},
   "source": [
    "8-15. Printing Models: Put the functions for the example printing_models.py in a separate file called printing_functions.py. Write an import statement at the top \n",
    "of printing_models.py, and modify the file to use the imported functions."
   ]
  },
  {
   "cell_type": "code",
   "execution_count": null,
   "id": "b88f4f96-627a-4095-a1e9-e87906f7b2d6",
   "metadata": {},
   "outputs": [],
   "source": [
    "# I will work with the previous function (from 8-14) and put it in a module\n",
    "# then import and run it here.\n",
    "import functions as fn\n",
    "\n",
    "car = fn.car_info_builder(\n",
    "    'subaru', 'outback',\n",
    "    color='blue',\n",
    "    tow_package=True,\n",
    ")\n",
    "\n",
    "print(car)"
   ]
  },
  {
   "cell_type": "markdown",
   "id": "12112b9c-c2a6-4b54-af70-db9bbb9576f7",
   "metadata": {},
   "source": [
    "8-16. Imports: Using a program you wrote that has one function in it, store that function in a separate file. Import the function into your main program file, and \n",
    "call the function using each of these approaches:\n",
    "- import module_name\n",
    "- from module_name import function_name\n",
    "- from module_name import function_name as fn\n",
    "- import module_name as mn\n",
    "- from module_name import *"
   ]
  },
  {
   "cell_type": "code",
   "execution_count": null,
   "id": "b7f42f57-a9ed-48ff-83e9-6ee5a11d1f1a",
   "metadata": {},
   "outputs": [],
   "source": [
    "# The 4th one I used above, so skipping it now\n",
    "# 1st approach:\n",
    "import functions\n",
    "car1 = functions.car_info_builder('volkswagen', 'audi', color='black')\n",
    "print(car1)"
   ]
  },
  {
   "cell_type": "code",
   "execution_count": null,
   "id": "0fda0eaa-c2a1-4d97-853f-85e85f10e384",
   "metadata": {},
   "outputs": [],
   "source": [
    "# 2nd approach:\n",
    "from functions import car_info_builder\n",
    "car2 = car_info_builder('general motors', 'cadillac',)\n",
    "print(car2)"
   ]
  },
  {
   "cell_type": "code",
   "execution_count": null,
   "id": "3885202f-9b4c-412a-8aff-98c55a3a2717",
   "metadata": {},
   "outputs": [],
   "source": [
    "# 3rd approach:\n",
    "from functions import car_info_builder as cib\n",
    "car3 = cib('stellantis', 'jeep', color='copper brown perl')\n",
    "print(car3)"
   ]
  },
  {
   "cell_type": "code",
   "execution_count": null,
   "id": "1948ab90-44d8-4e74-9818-ff68a97a0c3b",
   "metadata": {},
   "outputs": [],
   "source": [
    "# 5th approach:\n",
    "from functions import *\n",
    "car5 = car_info_builder('hyundai', 'kya', color='silver')"
   ]
  },
  {
   "cell_type": "markdown",
   "id": "574a59f9-7151-42c3-a3e1-aadffd34bf90",
   "metadata": {},
   "source": [
    "8-17. Styling Functions: Choose any three programs you wrote for this chapter, \n",
    "and make sure they follow the styling guidelines described in this section.\n",
    "\n",
    "- Done."
   ]
  },
  {
   "cell_type": "markdown",
   "id": "ee64376e-b6b2-47c6-9d4f-812b928c0683",
   "metadata": {},
   "source": [
    "<hr>\n",
    "\n",
    "# Chapter 9 - Classes"
   ]
  },
  {
   "cell_type": "markdown",
   "id": "df0909e9-19e4-4c61-8e76-8f0d7d8afcd5",
   "metadata": {},
   "source": [
    "9-1. Restaurant: Make a class called ``Restaurant``. The ``__init__()`` method for Restaurant should store two attributes: a ``restaurant_name`` and a ``cuisine_type``. \n",
    "Make a method called ``describe_restaurant()`` that prints these two pieces of information, and a method called ``open_restaurant()`` that prints a message indicating that the restaurant is open. Make an instance called ``restaurant`` from your class. Print the two attributes individually, and then call both methods."
   ]
  },
  {
   "cell_type": "code",
   "execution_count": null,
   "id": "ce9d446c-2351-49c2-82a7-44c026f24048",
   "metadata": {},
   "outputs": [],
   "source": [
    "class Restaurant:\n",
    "\n",
    "    def __init__(self, restaurant_name, cuisine_type):\n",
    "        self.restaurant_name = restaurant_name\n",
    "        self.cuisine_type = cuisine_type\n",
    "\n",
    "    def describe_restaurant(self):\n",
    "        info = f\"{self.restaurant_name.title()} is a restaurant especialized in\"\n",
    "        info += f\" {self.cuisine_type.title()} cuisine.\"\n",
    "        return info\n",
    "\n",
    "    def open_restaurant(self):\n",
    "        return f\"{self.restaurant_name.title()} is open.\"\n",
    "\n",
    "restaurant1 = Restaurant('Le Rêve Gourmand', 'French')\n",
    "\n",
    "print('Restaurant name:', restaurant1.restaurant_name)\n",
    "print('Cuisine type:', restaurant1.cuisine_type)\n",
    "print(restaurant1.describe_restaurant())\n",
    "print(restaurant1.open_restaurant())\n"
   ]
  },
  {
   "cell_type": "markdown",
   "id": "06e348b8-b01b-49ec-b397-6e4916b4cb1a",
   "metadata": {},
   "source": [
    "9-2. Three Restaurants: Start with your class from Exercise 9-1. Create three different instances from the class, and call ``describe_restaurant()`` for each \n",
    "instance."
   ]
  },
  {
   "cell_type": "code",
   "execution_count": null,
   "id": "f0d3819a-c700-4b42-9e5d-51d0c781f37f",
   "metadata": {},
   "outputs": [],
   "source": [
    "class Restaurant:\n",
    "    \"\"\" Stores restaurant info, describes it, informs if open \"\"\"\n",
    "    def __init__(self, restaurant_name, cuisine_type):\n",
    "        self.restaurant_name = restaurant_name\n",
    "        self.cuisine_type = cuisine_type\n",
    "\n",
    "    def describe_restaurant(self):\n",
    "        info = f\"{self.restaurant_name.title()} is a restaurant especialized in\"\n",
    "        info += f\" {self.cuisine_type.title()} cuisine.\"\n",
    "        return info\n",
    "\n",
    "    def open_restaurant(self):\n",
    "        return f\"{self.restaurant_name.title()} is open.\"\n",
    "\n",
    "restaurant1 = Restaurant('Café du Soleil', 'French')\n",
    "restaurant2 = Restaurant('The Dinner Table', 'American')\n",
    "restaurant3 = Restaurant('Sukiyabashi Jiro', 'Japanese')\n",
    "\n",
    "print(restaurant1.describe_restaurant())\n",
    "print(restaurant2.describe_restaurant())\n",
    "print(restaurant3.describe_restaurant())"
   ]
  },
  {
   "cell_type": "markdown",
   "id": "7ab2c91f-dbbf-4dd3-a3be-00ad2e92bb8d",
   "metadata": {},
   "source": [
    "9-3. Users: Make a class called ``User``. Create two attributes called ``first_name`` and ``last_name``, and then create several other attributes that are typically stored \n",
    "in a user profile. Make a method called ``describe_user()`` that prints a summary of the user’s information. Make another method called ``greet_user()`` that prints \n",
    "a personalized greeting to the user. Create several instances representing different users, and call both methods for each user"
   ]
  },
  {
   "cell_type": "code",
   "execution_count": null,
   "id": "3c3faabb-53a6-492a-af18-81825ce6ab6e",
   "metadata": {},
   "outputs": [],
   "source": [
    "class User:\n",
    "    \"\"\" Stores info about users \"\"\"\n",
    "    def __init__(self, first_name, last_name, age, works_at, city):\n",
    "        self.first_name = first_name\n",
    "        self.last_name = last_name\n",
    "        self.age = age\n",
    "        self.works_at = works_at\n",
    "        self.city = city\n",
    "\n",
    "    def describe_user(self):\n",
    "        info = f\"{self.first_name.title()} {self.last_name.title()} is \"\n",
    "        info += f\"{self.age} years old and lives in {self.city.title()}. \"\n",
    "        info += f\"{self.first_name.title()} works at '{self.works_at}'\"\n",
    "        return info\n",
    "\n",
    "    def greet_user(self):\n",
    "        return f\"Greetings, {self.first_name.title()}!\"\n",
    "\n",
    "user1 = User('jill', 'valentine', 22, 'S.T.A.R.S.', 'raccoon city')\n",
    "user2 = User('aya', 'brea', 25, 'N.Y.P.D', 'new york')\n",
    "user3 = User('quistis', 'trepe', 18, 'SeeD', 'balamb garden')\n",
    "\n",
    "print(user1.describe_user())\n",
    "print(user1.greet_user())\n",
    "print(user2.describe_user())\n",
    "print(user2.greet_user())\n",
    "print(user3.describe_user())\n",
    "print(user3.greet_user())"
   ]
  },
  {
   "cell_type": "markdown",
   "id": "cef17cae-7832-4580-957e-3707ad0a4996",
   "metadata": {},
   "source": [
    "9-4. Number Served: Start with your program from Exercise 9-1 (page 162). Add an attribute called ``number_served`` with a default value of 0. Create an \n",
    "instance called restaurant from this class. Print the number of customers the restaurant has served, and then change this value and print it again. Add a method called ``set_number_served()`` that lets you set the number of customers that have been served. Call this method with a new number and print the value again.\n",
    "Add a method called ``increment_number_served()`` that lets you increment the number of customers who’ve been served. Call this method with any number you like that could represent how many customers were served in, say, a day of business."
   ]
  },
  {
   "cell_type": "code",
   "execution_count": null,
   "id": "20531a09-421a-4c2b-bfba-5cb5386036ef",
   "metadata": {},
   "outputs": [],
   "source": [
    "# Here we practice three approaches to changing an attribute's value\n",
    "class Restaurant:\n",
    "\n",
    "    def __init__(self, restaurant_name, cuisine_type):\n",
    "        self.restaurant_name = restaurant_name\n",
    "        self.cuisine_type = cuisine_type\n",
    "        self.number_served = 0\n",
    "\n",
    "    def describe_restaurant(self):\n",
    "        info = f\"{self.restaurant_name.title()} is a restaurant especialized on\"\n",
    "        info += f\" {self.cuisine_type.title()} cuisine.\"\n",
    "        return info\n",
    "\n",
    "    def open_restaurant(self):\n",
    "        return f\"{self.restaurant_name.title()} is open.\"\n",
    "\n",
    "    def set_number_served(self, number):\n",
    "        self.number_served = number\n",
    "\n",
    "    def increment_number_served(self, number):\n",
    "        self.number_served += number\n",
    "\n",
    "restaurant = Restaurant('Le Rêve Gourmand', 'French')\n",
    "print(restaurant.number_served)\n",
    "\n",
    "# changing an attribute's value directly \n",
    "restaurant.number_served = 50\n",
    "print(restaurant.number_served)\n",
    "\n",
    "# changing and attribute's value using a method\n",
    "restaurant.set_number_served(198)\n",
    "print(restaurant.number_served)\n",
    "\n",
    "# incrementing and atribute's value using a method\n",
    "restaurant.increment_number_served(1000)\n",
    "print(restaurant.number_served)"
   ]
  },
  {
   "cell_type": "markdown",
   "id": "ce410a74-2a20-41f4-9675-f7ccaa4689c5",
   "metadata": {},
   "source": [
    "9-5. Login Attempts: Add an attribute called ``login_attempts`` to your User class from Exercise 9-3 (page 162). Write a method called ``increment_login_attempts()`` \n",
    "that increments the value of ``login_attempts`` by 1. Write another method ``called reset_login_attempts()`` that resets the value of ``login_attempts`` to 0.\n",
    "Make an instance of the User class and call ``increment_login_attempts()`` several times. Print the value of ``login_attempts`` to make sure it was incremented \n",
    "properly, and then call ``reset_login_attempts()``. Print ``login_attempts`` again to make sure it was reset to 0."
   ]
  },
  {
   "cell_type": "code",
   "execution_count": null,
   "id": "969590d1-e4c0-4fdb-ac36-0043b63ecffa",
   "metadata": {},
   "outputs": [],
   "source": [
    "class User:\n",
    "\n",
    "    def __init__(self, first_name, last_name, age, works_at, city):\n",
    "        self.first_name = first_name\n",
    "        self.last_name = last_name\n",
    "        self.age = age\n",
    "        self.works_at = works_at\n",
    "        self.city = city\n",
    "        self.login_attempts = 0\n",
    "\n",
    "    def describe_user(self):\n",
    "        info = f\"{self.first_name.title()} {self.last_name.title()} is \"\n",
    "        info += f\"{self.age} years old and lives in {self.city.title()}. \"\n",
    "        info += f\"{self.first_name.title()} works at '{self.works_at}'\"\n",
    "        return info\n",
    "\n",
    "    def greet_user(self):\n",
    "        return f\"Greetings, {self.first_name.title()}!\"\n",
    "\n",
    "    def increment_login_attempts(self):\n",
    "        self.login_attempts += 1\n",
    "\n",
    "    def reset_login_attempts(self):\n",
    "        self.login_attempts = 0\n",
    "\n",
    "user1 = User('jill', 'valentine', 22, 'S.T.A.R.S.', 'raccoon city')\n",
    "print(user1.login_attempts)\n",
    "\n",
    "# incrementing an attribute's value, but no argument is given\n",
    "user1.increment_login_attempts()\n",
    "print(user1.login_attempts)\n",
    "\n",
    "# incrementing it many times\n",
    "for i in range(50):\n",
    "    user1.increment_login_attempts()\n",
    "print(user1.login_attempts)\n",
    "\n",
    "# resetting the attribute's value\n",
    "user1.reset_login_attempts()\n",
    "print(user1.login_attempts)"
   ]
  },
  {
   "cell_type": "markdown",
   "id": "b661a5e0-708b-4c8e-9538-f154e4af19da",
   "metadata": {},
   "source": [
    "9-6. Ice Cream Stand: An ice cream stand is a specific kind of restaurant. Write a class called ``IceCreamStand`` that inherits from the ``Restaurant`` class you wrote in \n",
    "Exercise 9-1 (page 162) or Exercise 9-4 (page 166). Either version of the class will work; just pick the one you like better. Add an attribute called ``flavors`` that stores a list of ice cream flavors. Write a method that displays these flavors. Create an instance of ``IceCreamStand``, and call this method."
   ]
  },
  {
   "cell_type": "code",
   "execution_count": null,
   "id": "f2250449-29b9-44b6-a3b3-7445ccdb31fb",
   "metadata": {},
   "outputs": [],
   "source": [
    "# Practicing inheritance\n",
    "class Restaurant:\n",
    "    \"\"\" Simple model of a restaurant \"\"\"\n",
    "    def __init__(self, name, cuisine_type):\n",
    "        self.name = name\n",
    "        self.cuisine_type = cuisine_type\n",
    "        self.number_served = 0\n",
    "\n",
    "    def describe_restaurant(self):\n",
    "        info = f\"{self.name.title()} is a restaurant specialized on\"\n",
    "        info += f\" {self.cuisine_type.title()} cuisine.\"\n",
    "        return info\n",
    "\n",
    "    def open_restaurant(self):\n",
    "        return f\"{self.name.title()} is open.\"\n",
    "\n",
    "    def set_number_served(self, number):\n",
    "        self.number_served = number\n",
    "\n",
    "    def increment_number_served(self, number):\n",
    "        self.number_served += number\n",
    "\n",
    "class IcecreamStand(Restaurant):\n",
    "    \"\"\" Simple model of an icecream stand, a kind of restaurant \"\"\"\n",
    "    def __init__(self, name, cuisine_type):\n",
    "        # getting attributes from the parent class\n",
    "        super().__init__(name, cuisine_type)\n",
    "        # adding an exclusive one\n",
    "        self.flavors = ['strawberry', 'vanilla']\n",
    "\n",
    "    # this is what is asked to do\n",
    "    def show_flavors(self):\n",
    "        print(' --- Flavors --- ')\n",
    "        for flavor in self.flavors:\n",
    "            print(flavor, end=', ')\n",
    "        print()\n",
    "        \n",
    "    # Trying something different\n",
    "    def add_flavors(self, flavors_list):\n",
    "        for flavor in flavors_list:\n",
    "            self.flavors.append(flavor)\n",
    "\n",
    "ice = IcecreamStand('Moo’s Gourmet', 'ice cream')\n",
    "print(ice.describe_restaurant())\n",
    "ice.show_flavors()\n",
    "\n",
    "# trying to add more flavors\n",
    "print()\n",
    "ice.add_flavors(['mango', 'grapes', 'coconut', 'mint'])\n",
    "ice.show_flavors()"
   ]
  },
  {
   "cell_type": "markdown",
   "id": "26a333b1-c6f7-4aa3-94e3-e250dbbc1deb",
   "metadata": {},
   "source": [
    "9-7. Admin: An administrator is a special kind of user. Write a class called ``Admin`` that inherits from the ``User`` class you wrote in Exercise 9-3 (page 162) \n",
    "or Exercise 9-5 (page 167). Add an attribute, privileges, that stores a list of strings like ``\"can add post\"``, ``\"can delete post\"``, ``\"can ban user\"``, and so on. \n",
    "Write a method called ``show_privileges()`` that lists the administrator’s set of privileges. Create an instance of ``Admin``, and call your method."
   ]
  },
  {
   "cell_type": "code",
   "execution_count": null,
   "id": "2236757a-2269-4834-8f46-2d6f1a6138d9",
   "metadata": {},
   "outputs": [],
   "source": [
    "class User:\n",
    "    \"\"\" A simple model of a user \"\"\"\n",
    "    def __init__(self, first_name, last_name, age, function):\n",
    "        self.first_name = first_name\n",
    "        self.last_name = last_name\n",
    "        self.age = age\n",
    "        self.function = function\n",
    "        self.login_attempts = 0\n",
    "\n",
    "    def describe_user(self):\n",
    "        info = f\"{self.first_name.title()} {self.last_name.title()} is \"\n",
    "        info += f\"{self.age} years old, his/her occupation is {self.occupation}.\"\n",
    "        return info\n",
    "\n",
    "    def increment_login_attempts(self):\n",
    "        self.login_attempts += 1\n",
    "\n",
    "    def reset_login_attempts(self):\n",
    "        self.login_attempts = 0\n",
    "\n",
    "    def gret_user(self):\n",
    "        print(f\"Hello, {self.first_name.title()}!\")\n",
    "              \n",
    "\n",
    "class Admin(User):  \n",
    "    \"\"\" Model of a special user, the admin \"\"\"\n",
    "    def __init__(self, first_name, last_name, age, function):\n",
    "        super().__init__(first_name, last_name, age, function)\n",
    "        self.privileges = [\"can add a post\", \"can delete post\", \"can ban user\"]\n",
    "\n",
    "    def show_privileges(self):\n",
    "        print(f\"{self.first_name.title()} has the following privileges:\\n\")\n",
    "        for privilege in self.privileges:\n",
    "            print(\"   >\",privilege)\n",
    "\n",
    "user1 = Admin('donald', 'trump', 78, 'the president of united states')\n",
    "user1.show_privileges()\n"
   ]
  },
  {
   "cell_type": "markdown",
   "id": "21629787-ffea-4f3a-bdca-0607da804674",
   "metadata": {},
   "source": [
    "9-8. Privileges: Write a separate ``Privileges`` class. The class should have one attribute, ``privileges``, that stores a list of strings as described in Exercise 9-7. \n",
    "Move the ``show_privileges()`` method to this class. Make a ``Privileges`` instance as an attribute in the ``Admin`` class. Create a new instance of ``Admin`` and use your \n",
    "method to show its privileges."
   ]
  },
  {
   "cell_type": "code",
   "execution_count": null,
   "id": "0ae09917-6f4d-4fb3-9d96-58f8a5de6f56",
   "metadata": {},
   "outputs": [],
   "source": [
    "class Privileges:\n",
    "    \"\"\" A class containing privileges \"\"\"\n",
    "    def __init__(self):\n",
    "        self.privileges = ['can ban user', 'can add post', 'can delete post']\n",
    "\n",
    "    def show_privileges(self):\n",
    "        for privilege in self.privileges:\n",
    "            print(\"   >\",privilege)\n",
    "            \n",
    "\n",
    "class User:\n",
    "    \"\"\" A simple model of a user \"\"\"\n",
    "    def __init__(self, first_name, last_name, age, function):\n",
    "        self.first_name = first_name\n",
    "        self.last_name = last_name\n",
    "        self.age = age\n",
    "        self.function = function\n",
    "        self.login_attempts = 0\n",
    "\n",
    "    def describe_user(self):\n",
    "        info = f\"{self.first_name.title()} {self.last_name.title()} is \"\n",
    "        info += f\"{self.age} years old, his/her occupation is {self.occupation}.\"\n",
    "        return info\n",
    "\n",
    "    def increment_login_attempts(self):\n",
    "        self.login_attempts += 1\n",
    "\n",
    "    def reset_login_attempts(self):\n",
    "        self.login_attempts = 0\n",
    "\n",
    "    def gret_user(self):\n",
    "        print(f\"Hello, {self.first_name.title()}!\")\n",
    "        \n",
    "\n",
    "class Admin(User):  \n",
    "    \"\"\" Model of a special user, the admin \"\"\"\n",
    "    def __init__(self, first_name, last_name, age, function):\n",
    "        super().__init__(first_name, last_name, age, function)\n",
    "        \n",
    "        # this is the important part\n",
    "        self.privileges = Privileges()\n",
    "\n",
    "user1 = Admin('donald', 'trump', 78, 'the president of united states')\n",
    "\n",
    "# 'privileges' is both an attribute of the class Admin and an instance\n",
    "# of the class Privileges.\n",
    "user1.privileges.show_privileges()\n",
    "\n"
   ]
  },
  {
   "cell_type": "markdown",
   "id": "8552a3f6-7615-4123-82ee-827d3a5fa6c1",
   "metadata": {},
   "source": [
    "9-9. Battery Upgrade: Use the final version of ``electric_car.py`` from this section. Add a method to the Battery class called ``upgrade_battery()``. This method \n",
    "should check the battery size and set the capacity to 65 if it isn’t already. Make an electric car with a default battery size, call ``get_range()`` once, and then \n",
    "call ``get_range()`` a second time after upgrading the battery. You should see an increase in the car’s range."
   ]
  },
  {
   "cell_type": "code",
   "execution_count": null,
   "id": "e3e19612-94a3-4abb-be2c-8a99a01825b3",
   "metadata": {},
   "outputs": [],
   "source": [
    "class Car:\n",
    "    \"\"\" Modeling a car object \"\"\"\n",
    "    \n",
    "    def __init__(self, make, model, year):\n",
    "        self.make = make\n",
    "        self.model = model\n",
    "        self.year = year\n",
    "        self.odometer_reading = 0\n",
    "\n",
    "    def get_descriptive_name(self):\n",
    "        return f\"{self.year} {self.make} {self.model}\".title()\n",
    "\n",
    "    def read_odometer(self):    \n",
    "        print(f\"This car has {self.odometer_reading} miles on it\")\n",
    "\n",
    "    def update_odometer(self, mileage):\n",
    "        if mileage >= self.odometer_reading:\n",
    "            self.odometer_reading = mileage\n",
    "        else:\n",
    "            print('You cannot roll back an odometer!')\n",
    "\n",
    "    def increment_odometer(self, miles):\n",
    "        self.odometer_reading += miles\n",
    "\n",
    "\n",
    "class Battery:\n",
    "    \"\"\" A model of a battery object \"\"\"\n",
    "\n",
    "    def __init__(self, battery_size=40):\n",
    "        self.battery_size = battery_size\n",
    "        \n",
    "    def describe_battery(self):\n",
    "        print(f\"This car has a {self.battery_size}-kWh battery.\")\n",
    "\n",
    "    def get_range(self):\n",
    "        if self.battery_size == 40:\n",
    "            reach = 150\n",
    "        elif self.battery_size == 65:\n",
    "            reach = 225\n",
    "        print(f\"This car can go about {reach} miles on a full charge.\")\n",
    "\n",
    "    def upgrade_battery(self):\n",
    "        if self.battery_size < 65:\n",
    "            self.battery_size = 65\n",
    "\n",
    "\n",
    "class ElectricCar(Car):\n",
    "    \"\"\" Modeling an electric car object \"\"\"\n",
    "\n",
    "    def __init__(self, make, model, year):\n",
    "        super().__init__(make, model, year)\n",
    "        self.battery = Battery()\n",
    "\n",
    "\n",
    "car = ElectricCar('honda', 'civic', 2023)\n",
    "car.battery.get_range()\n",
    "car.battery.upgrade_battery()\n",
    "car.battery.get_range()    "
   ]
  },
  {
   "cell_type": "markdown",
   "id": "1fc36184-2468-46ec-9249-47708b321b79",
   "metadata": {},
   "source": [
    "9-10. Imported Restaurant: Using your latest Restaurant class, store it in a module. Make a separate file that imports Restaurant. Make a Restaurant instance, \n",
    "and call one of Restaurant’s methods to show that the import statement is working properly."
   ]
  },
  {
   "cell_type": "code",
   "execution_count": null,
   "id": "289c60cb-7534-4f0d-b548-b4fb8cd8bc75",
   "metadata": {},
   "outputs": [],
   "source": [
    "from restaurant import Restaurant\n",
    "\n",
    "rst = Restaurant('Spice Symphony', 'Indian')\n",
    "print(rst.describe_restaurant())"
   ]
  },
  {
   "cell_type": "markdown",
   "id": "8073d735-ff84-4afe-b8a2-33a5d2bec505",
   "metadata": {},
   "source": [
    "9-11. Imported Admin: Start with your work from Exercise 9-8 (page 173). Store the classes ``User``, ``Privileges``, and ``Admin`` in one module. Create a separate file, \n",
    "make an ``Admin`` instance, and call ``show_privileges()`` to show that everything is working correctly."
   ]
  },
  {
   "cell_type": "code",
   "execution_count": null,
   "id": "64b02589-6756-4d8f-98bd-2bacc3921706",
   "metadata": {},
   "outputs": [],
   "source": [
    "from user_classes import Admin \n",
    "\n",
    "user = Admin('jill', 'valentine', 22, 'S.T.A.R.S. member.')\n",
    "user.privileges.show_privileges()"
   ]
  },
  {
   "cell_type": "markdown",
   "id": "bb5cc1b5-a1c0-46b6-955f-81b695db6cbb",
   "metadata": {},
   "source": [
    "9-12. Multiple Modules: Store the ``User`` class in one module, and store the ``Privileges`` and ``Admin`` classes in a separate module. In a separate file, create an ``Admin`` instance and call ``show_privileges()`` to show that everything is still working correctly."
   ]
  },
  {
   "cell_type": "code",
   "execution_count": null,
   "id": "334f0aec-228a-446b-91cb-0440184c75ad",
   "metadata": {},
   "outputs": [],
   "source": [
    "from admin import Admin\n",
    "\n",
    "user = Admin('Aya', 'Brea', 22, 'N.Y.P.D officer.')\n",
    "user.privileges.show_privileges()"
   ]
  },
  {
   "cell_type": "markdown",
   "id": "53cbf379-d7a0-45eb-8b37-31f1542ac55f",
   "metadata": {},
   "source": [
    "9-13. Dice: Make a class Die with one attribute called sides, which has a default value of 6. Write a method called ``roll_die()`` that prints a random number between 1 and the number of sides the die has. Make a 6-sided die and roll it 10 times. Make a 10-sided die and a 20-sided die. Roll each die 10 times."
   ]
  },
  {
   "cell_type": "code",
   "execution_count": null,
   "id": "a4c7ad8c-7988-4238-9107-047a56e07246",
   "metadata": {},
   "outputs": [],
   "source": [
    "# Importing modules from the Python Standard Library\n",
    "from random import randint\n",
    "\n",
    "class Die:\n",
    "    \"\"\" A model of a die \"\"\"\n",
    "    def __inti__(self, sides=6):\n",
    "        self.sides = sides\n",
    "\n",
    "    def roll_die(self):\n",
    "        \"\"\" Roll a six-sided die \"\"\"\n",
    "        return randint(1, 6)\n",
    "        # note: randint(x, y) includes y\n",
    "        \n",
    "die = Die()\n",
    "for n in range(1, 11):\n",
    "    print(die.roll_die())"
   ]
  },
  {
   "cell_type": "markdown",
   "id": "ce35b6c4-339b-488d-a816-de75572209f8",
   "metadata": {},
   "source": [
    "9-14. Lottery: Make a list or tuple containing a series of 10 numbers and 5 letters. Randomly select 4 numbers or letters from the list and print a message saying that any ticket matching these 4 numbers or letters wins a prize."
   ]
  },
  {
   "cell_type": "code",
   "execution_count": null,
   "id": "ef7fcfa6-e756-4b98-9485-49d4a5c762ae",
   "metadata": {},
   "outputs": [],
   "source": [
    "# Importing the choice function from random module\n",
    "from random import choice\n",
    "\n",
    "values = [2, 5, 9, 12, 55, 34, 67, 21, 93, 102, 'g', 't', 'a', 'y', 'p']\n",
    "chosen = []\n",
    "for i in range(4):\n",
    "    chosen.append(choice(values))\n",
    "\n",
    "print(\"The ticket with the following result won the prize:\")\n",
    "print(chosen)"
   ]
  },
  {
   "cell_type": "markdown",
   "id": "e277ea97-e32e-45ff-8162-fc97b17c43ba",
   "metadata": {},
   "source": [
    "9-15. Lottery Analysis: You can use a loop to see how hard it might be to win the kind of lottery you just modeled. Make a list or tuple called ``my_ticket``. Write \n",
    "a loop that keeps pulling numbers until your ticket wins. Print a message reporting how many times the loop had to run to give you a winning ticket.\n"
   ]
  },
  {
   "cell_type": "code",
   "execution_count": null,
   "id": "b9b95d50-0908-44b6-9bb5-9b82d0b135e2",
   "metadata": {},
   "outputs": [],
   "source": [
    "from random import choice\n",
    "\n",
    "values = [2, 5, 9, 12, 55, 34, 67, 21, 93, 102, 'g', 't', 'a', 'y', 'p']\n",
    "my_ticket = [21, 'g', 93, 'a']\n",
    "chosen = []\n",
    "counter = 0\n",
    "\n",
    "while chosen != my_ticket:\n",
    "    chosen.clear()\n",
    "    for i in range(4):\n",
    "        chosen.append(choice(values))\n",
    "    counter += 1            \n",
    "\n",
    "print(\"Won in\", counter, \"attempts.\")\n",
    "print(\"Your ticket:\", my_ticket, \"\\nchosen values:\", chosen)    "
   ]
  },
  {
   "cell_type": "markdown",
   "id": "5c2060cf-ba2d-45e3-b18a-f8e7af40a900",
   "metadata": {},
   "source": [
    "<hr>\n",
    "\n",
    "# Chapter 10 - Files and Exceptions"
   ]
  },
  {
   "cell_type": "code",
   "execution_count": null,
   "id": "8f1d0f96-9f22-4915-9d25-a6e570b06052",
   "metadata": {},
   "outputs": [],
   "source": []
  }
 ],
 "metadata": {
  "kernelspec": {
   "display_name": "Python 3 (ipykernel)",
   "language": "python",
   "name": "python3"
  },
  "language_info": {
   "codemirror_mode": {
    "name": "ipython",
    "version": 3
   },
   "file_extension": ".py",
   "mimetype": "text/x-python",
   "name": "python",
   "nbconvert_exporter": "python",
   "pygments_lexer": "ipython3",
   "version": "3.13.1"
  }
 },
 "nbformat": 4,
 "nbformat_minor": 5
}
