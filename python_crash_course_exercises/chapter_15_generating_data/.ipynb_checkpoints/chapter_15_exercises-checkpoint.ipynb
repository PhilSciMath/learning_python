{
 "cells": [
  {
   "cell_type": "markdown",
   "id": "cb3e3437-9f83-4ad7-b6cb-b10ddef526ef",
   "metadata": {},
   "source": [
    "# Chapter 15 - Generating Data"
   ]
  },
  {
   "cell_type": "markdown",
   "id": "c0bfbf84-d954-4e2c-aa78-1811ffa0745d",
   "metadata": {},
   "source": [
    "## 1 - Plotting a simple line graph"
   ]
  },
  {
   "cell_type": "markdown",
   "id": "da296e67-c469-42d5-a028-d0b2d49c0c8a",
   "metadata": {},
   "source": [
    "**15-1**. Cubes: A number raised to the third power is a cube. Plot the first five\n",
    "cubic numbers, and then plot the first 5,000 cubic numbers."
   ]
  },
  {
   "cell_type": "code",
   "execution_count": null,
   "id": "0f5418b9-c9e9-4c3b-a8ab-290f347f46ca",
   "metadata": {},
   "outputs": [],
   "source": [
    "# First part, the first five cubic numbers\n",
    "import matplotlib.pyplot as plt\n",
    "\n",
    "x_values = range(1,6)\n",
    "y_values = [ x**3 for x in x_values]\n",
    "\n",
    "# Generating the graph.\n",
    "plt.style.use('seaborn-v0_8')\n",
    "fit, ax = plt.subplots()\n",
    "ax.scatter(x_values, y_values, c=y_values, cmap=plt.cm.Wistia, s=100)\n",
    "ax.set_title(\"Cubes\", fontsize=24)\n",
    "ax.set_xlabel(\"Values\", fontsize=14)\n",
    "ax.set_ylabel(\"Cube of Values\", fontsize=14)\n",
    "ax.tick_params(labelsize=14)\n",
    "\n",
    "plt.show()"
   ]
  },
  {
   "cell_type": "code",
   "execution_count": null,
   "id": "ea17f505-ece9-4cb5-b2a9-ac33855fc165",
   "metadata": {},
   "outputs": [],
   "source": [
    "# Second part, the first 5_000 cubic numbers.\n",
    "import matplotlib.pyplot as plt\n",
    "\n",
    "x_values = range(1, 5_001)\n",
    "y_values = [x ** 3 for x in x_values]\n",
    "\n",
    "plt.style.use('seaborn-v0_8-dark')\n",
    "fig, ax = plt.subplots()\n",
    "ax.scatter(x_values, y_values, c=y_values, cmap=plt.cm.Reds, s=10)\n",
    "ax.set_title(\"Cubes\", fontsize=24)\n",
    "ax.set_xlabel(\"Values\", fontsize=14)\n",
    "ax.set_ylabel(\"Cube of Values\", fontsize=14)\n",
    "ax.tick_params(labelsize=14)\n",
    "ax.axis([0, 5_100, 0, 1.3e11])\n",
    "\n",
    "plt.show()"
   ]
  },
  {
   "cell_type": "markdown",
   "id": "0aa8da89-2c53-4d4a-b10f-b6eeed9b7fbd",
   "metadata": {},
   "source": [
    "**15-2**. Colored Cubes: Apply a colormap to your cubes plot.\n",
    "\n",
    "*Done*."
   ]
  },
  {
   "cell_type": "markdown",
   "id": "16643014-3214-4095-ba94-ecd61c62dd47",
   "metadata": {},
   "source": [
    "## 2 - Random Walk"
   ]
  },
  {
   "cell_type": "markdown",
   "id": "7bf2d796-8235-4f1d-8e32-02602fc83935",
   "metadata": {},
   "source": [
    "**15-3**. Molecular Motion: Modify ``rw_visual.py`` by replacing ``ax.scatter()`` with ``ax.plot()``. To simulate the path of a pollen grain on the surface of a drop of water, pass in the ``rw.x_values`` and ``rw.y_values``, and include a ``linewidth`` argument. Use 5,000 instead of 50,000 points to keep the plot from being too busy."
   ]
  },
  {
   "cell_type": "code",
   "execution_count": null,
   "id": "2fb61f6b-a1c1-49d0-83d8-8ac2371f0e0e",
   "metadata": {},
   "outputs": [],
   "source": [
    "import matplotlib.pyplot as plt\n",
    "\n",
    "from random_walk import RandomWalk\n",
    "\n",
    "# Generating a random walk.\n",
    "rw = RandomWalk()\n",
    "rw.fill_walk()\n",
    "\n",
    "# Generating the plot.\n",
    "fig, ax = plt.subplots(figsize=(10, 10))\n",
    "point_number = range(rw.num_points)\n",
    "ax.plot(rw.x_values, rw.y_values, linewidth=1)\n",
    "ax.scatter(0, 0, c='orange')\n",
    "ax.scatter(rw.x_values[-1], rw.y_values[-1], c='red')\n",
    "ax.set_aspect('equal')\n",
    "\n",
    "ax.get_xaxis().set_visible(False)\n",
    "ax.get_yaxis().set_visible(False)\n",
    "\n",
    "plt.show()"
   ]
  },
  {
   "cell_type": "markdown",
   "id": "90f65632-4e57-4b1b-af5a-91ec9799453c",
   "metadata": {},
   "source": [
    "**15-4**. Modified Random Walks: In the RandomWalk class, ``x_step`` and ``y_step`` are generated from the same set of conditions. The direction is chosen randomly from the list ``[1, -1]`` and the distance from the list ``[0, 1, 2, 3, 4]``. Modify the values in these lists to see what happens to the overall shape of your walks. Try a longer list of choices for the distance, such as 0 through 8, or remove the −1 from the ``x-`` or ``y-direction`` list."
   ]
  },
  {
   "cell_type": "markdown",
   "id": "75943616-cb00-402b-9d7d-ac382d031a8b",
   "metadata": {},
   "source": [
    "*Done*. Changing the distance to something like ``x_distance = choice(range(9))`` does not affect the overall visualization too much, since with 5000 points the steps are too small to notice the variation in magnitude. If we change the directions on any axis to, say, ``[1, 0]``, the walk can't go back, all the steps in that axis will be in just one direction, so the scatter graph will look like a line. The plot graph won't change too much."
   ]
  },
  {
   "cell_type": "markdown",
   "id": "772bcbad-71f0-429e-bfbb-0a7573d0e151",
   "metadata": {},
   "source": [
    "**15-5**. Refactoring: The ``fill_walk()`` method is lengthy. Create a new method called ``get_step()`` to determine the direction and distance for each step, and then calculate the step. You should end up with two calls to ``get_step()`` in ``fill_walk()`` :\n",
    "```\n",
    "x_step = self.get_step()\n",
    "y_step = self.get_step()\n",
    "```\n",
    "This refactoring should reduce the size of ``fill_walk()`` and make the method easier to read and understand."
   ]
  },
  {
   "cell_type": "markdown",
   "id": "9c89c323-7413-490d-ae0c-f38577a6aa4b",
   "metadata": {},
   "source": [
    "*Done*."
   ]
  },
  {
   "cell_type": "markdown",
   "id": "7d80b8b4-b395-49db-9840-707465f68c29",
   "metadata": {},
   "source": [
    "## 3 - Rolling Dice with Plotly"
   ]
  },
  {
   "cell_type": "markdown",
   "id": "b43f5ca5-48f3-4c4f-a47b-4bc3216ce121",
   "metadata": {},
   "source": [
    "**15-6**. Two D8s: Create a simulation showing what happens when you roll two eight-sided dice 1,000 times. Try to picture what you think the visualization will look like before you run the simulation, then see if your intuition was correct. Gradually increase the number of rolls until you start to see the limits of your system’s capabilities."
   ]
  },
  {
   "cell_type": "code",
   "execution_count": null,
   "id": "1e88fc48-da4a-41ea-9c94-005b688015ea",
   "metadata": {},
   "outputs": [],
   "source": [
    "import plotly.express as px\n",
    "from die import Die\n",
    "\n",
    "die_1 = Die(8)\n",
    "die_2 = Die(8)\n",
    "\n",
    "results = []\n",
    "for roll_num in range(1000):\n",
    "    results.append(die_1.roll() + die_2.roll())\n",
    "\n",
    "frequencies = []\n",
    "max_result = die_1.num_sides + die_2.num_sides\n",
    "possible_results = range(2, max_result + 1)\n",
    "for value in possible_results:\n",
    "    frequencies.append(results.count(value))\n",
    "\n",
    "title = \"Results of Rollig two D8 1000 times.\"\n",
    "labels = { 'x' : 'Result', 'y' : 'Frequency of Result' }\n",
    "fig = px.bar(x=possible_results, y=frequencies, title=title, labels=labels)\n",
    "fig.update_layout(xaxis_dtick=1)\n",
    "\n",
    "fig.show()"
   ]
  },
  {
   "cell_type": "markdown",
   "id": "8de29bea-430a-4af7-a234-f4bfd3cc8441",
   "metadata": {},
   "source": [
    "**15-7**. Three Dice: When you roll three D6 dice, the smallest number you can roll is 3 and the largest number is 18. Create a visualization that shows what happens when you roll three D6 dice."
   ]
  },
  {
   "cell_type": "code",
   "execution_count": null,
   "id": "826bc094-3fb1-4046-bf8e-1e77acff5f59",
   "metadata": {},
   "outputs": [],
   "source": [
    "import plotly.express as px\n",
    "from die import Die\n",
    "\n",
    "die_1 = Die()\n",
    "die_2 = Die()\n",
    "die_3 = Die()\n",
    "\n",
    "results = []\n",
    "for roll_num in range(1_000_000):\n",
    "    results.append(die_1.roll() + die_2.roll() + die_3.roll())\n",
    "\n",
    "frequencies = []\n",
    "max_result = die_1.num_sides + die_2.num_sides + die_3.num_sides\n",
    "possible_results = range(3, max_result + 1)\n",
    "for value in possible_results:\n",
    "    frequencies.append(results.count(value))\n",
    "\n",
    "title = \"Results of Rollig three D6 1,000,000 times.\"\n",
    "labels = { 'x' : 'Result', 'y' : 'Frequency of Result' }\n",
    "fig = px.bar(x=possible_results, y=frequencies, title=title, labels=labels)\n",
    "fig.update_layout(xaxis_dtick=1)\n",
    "\n",
    "fig.show()"
   ]
  },
  {
   "cell_type": "markdown",
   "id": "817be7fd-af99-4c2a-902a-01d715251a30",
   "metadata": {},
   "source": [
    "**15-8**. Multiplication: When you roll two dice, you usually add the two numbers together to get the result. Create a visualization that shows what happens if you multiply these numbers by each other instead."
   ]
  },
  {
   "cell_type": "code",
   "execution_count": null,
   "id": "7da5efa5-2060-49d5-b5be-ee5709ee4776",
   "metadata": {},
   "outputs": [],
   "source": [
    "import plotly.express as px\n",
    "from die import Die\n",
    "\n",
    "die_1 = Die()\n",
    "die_2 = Die()\n",
    "\n",
    "results = []\n",
    "for roll_num in range(100_000):\n",
    "    # Note: we can't get any prime number between 2 and 12.\n",
    "    results.append(die_1.roll() * die_2.roll())\n",
    "\n",
    "frequencies = []\n",
    "max_result = die_1.num_sides + die_2.num_sides\n",
    "possible_results = range(2, max_result + 1)\n",
    "for value in possible_results:\n",
    "    frequencies.append(results.count(value))\n",
    "\n",
    "title = \"Results of rollig two D6 100000 times, but multiplying.\"\n",
    "labels = { 'x' : 'Result', 'y' : 'Frequency of Result' }\n",
    "fig = px.bar(x=possible_results, y=frequencies, title=title, labels=labels)\n",
    "fig.update_layout(xaxis_dtick=1)\n",
    "\n",
    "fig.show()"
   ]
  },
  {
   "cell_type": "markdown",
   "id": "34c83d85-022e-4931-9c65-6b84f4d3c00c",
   "metadata": {},
   "source": [
    "**15-9**. Die Comprehensions: For clarity, the listings in this section use the long form of for loops. If you’re comfortable using list comprehensions, try writing a comprehension for one or both of the loops in each of these programs."
   ]
  },
  {
   "cell_type": "code",
   "execution_count": null,
   "id": "c8a039a3-002f-43fd-bdab-513384700e51",
   "metadata": {},
   "outputs": [],
   "source": [
    "import plotly.express as px\n",
    "from die import Die\n",
    "\n",
    "die_1 = Die()\n",
    "die_2 = Die()\n",
    "\n",
    "results = [die_1.roll() + die_2.roll() for n in range(1000)]\n",
    "\n",
    "max_result = die_1.num_sides + die_2.num_sides\n",
    "possible_results = range(2, max_result + 1)\n",
    "\n",
    "frequencies = [results.count(value) for value in possible_results]\n",
    "\n",
    "title = \"Results of rollig two D6 100000 times.\"\n",
    "labels = { 'x' : 'Result', 'y' : 'Frequency of Result' }\n",
    "fig = px.bar(x=possible_results, y=frequencies, title=title, labels=labels)\n",
    "fig.update_layout(xaxis_dtick=1)\n",
    "\n",
    "fig.show()"
   ]
  },
  {
   "cell_type": "markdown",
   "id": "4f81f45c-ac26-492e-ae8a-458870e563b2",
   "metadata": {},
   "source": [
    "**15-10**. Practicing with Both Libraries: Try using Matplotlib to make a die-rolling visualization, and use Plotly to make the visualization for a random walk. (You’ll need to consult the documentation for each library to complete this exercise.)"
   ]
  },
  {
   "cell_type": "code",
   "execution_count": null,
   "id": "94cc20e6-7301-4737-82d8-2e308d64b1a5",
   "metadata": {},
   "outputs": [],
   "source": [
    "# First one: rolling dice with matplotlib.\n",
    "import matplotlib.pyplot as plt\n",
    "from die import Die\n",
    "\n",
    "die_1 = Die()\n",
    "die_2 = Die()\n",
    "\n",
    "results = [die_1.roll() + die_2.roll() for n in range(1000)]\n",
    "\n",
    "max_result = die_1.num_sides + die_2.num_sides\n",
    "possible_results = range(2, max_result + 1)\n",
    "\n",
    "frequencies = [results.count(value) for value in possible_results]\n",
    "\n",
    "fig, ax = plt.subplots(figsize=(8, 6), layout='constrained')\n",
    "# For discrete data, use bins=range(min, max + 2).\n",
    "# For max=12, the last bins covers the range [12, 13), so we need 13, but since\n",
    "# range(2, 13) does not include 13, we must do range(2, 14).\n",
    "ax.hist(results, bins=range(2, 14), linewidth=0.5, edgecolor='white', color='deepskyblue')\n",
    "\n",
    "ax.set(xlim=(2,13), xticks=range(2,13))\n",
    "ax.set_title(\"Result of rolling two D6 1000 times.\", fontsize=24)\n",
    "ax.set_xlabel(\"Result\", fontsize=14)\n",
    "ax.set_ylabel(\"Frequency of Result\", fontsize=14)\n",
    "ax.tick_params(labelsize=14)\n",
    "\n",
    "plt.show()"
   ]
  },
  {
   "cell_type": "code",
   "execution_count": null,
   "id": "37b62801-6242-4d39-9909-2252b4d06319",
   "metadata": {},
   "outputs": [],
   "source": [
    "# Second, random walk with Plotly.\n",
    "import plotly.express as px\n",
    "from random_walk import RandomWalk\n",
    "\n",
    "# Generating a random walk.\n",
    "rw = RandomWalk()\n",
    "rw.fill_walk()\n",
    "\n",
    "title = \"Random Walk\"\n",
    "steps = range(len(rw.x_values))\n",
    "\n",
    "# It is possible to reverse any buit-in color scale by appending '_r' to the name.\n",
    "fig = px.scatter(x=rw.x_values, y=rw.y_values, title=title, color=steps, \n",
    "                 color_continuous_scale='ice_r')\n",
    "\n",
    "fig.show()"
   ]
  },
  {
   "cell_type": "code",
   "execution_count": null,
   "id": "b79cfcbb-71b3-4f28-85d4-385e4fd3a443",
   "metadata": {},
   "outputs": [],
   "source": []
  },
  {
   "cell_type": "code",
   "execution_count": null,
   "id": "0571fa84-fda3-4051-93ee-96f2507fc460",
   "metadata": {},
   "outputs": [],
   "source": []
  }
 ],
 "metadata": {
  "kernelspec": {
   "display_name": "Python 3 (ipykernel)",
   "language": "python",
   "name": "python3"
  },
  "language_info": {
   "codemirror_mode": {
    "name": "ipython",
    "version": 3
   },
   "file_extension": ".py",
   "mimetype": "text/x-python",
   "name": "python",
   "nbconvert_exporter": "python",
   "pygments_lexer": "ipython3",
   "version": "3.13.1"
  }
 },
 "nbformat": 4,
 "nbformat_minor": 5
}
